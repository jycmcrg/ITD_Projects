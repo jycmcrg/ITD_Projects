{
 "cells": [
  {
   "cell_type": "code",
   "execution_count": 4,
   "id": "6a9a527f-1db9-46c3-ba52-55967a62a215",
   "metadata": {},
   "outputs": [],
   "source": [
    "import numpy as np\n",
    "import pandas as pd\n",
    "import seaborn as sns\n",
    "import matplotlib.pyplot as plt"
   ]
  },
  {
   "cell_type": "code",
   "execution_count": 5,
   "id": "2290c462-6f26-4923-9cb8-775bab14321b",
   "metadata": {},
   "outputs": [
    {
     "data": {
      "text/html": [
       "<div>\n",
       "<style scoped>\n",
       "    .dataframe tbody tr th:only-of-type {\n",
       "        vertical-align: middle;\n",
       "    }\n",
       "\n",
       "    .dataframe tbody tr th {\n",
       "        vertical-align: top;\n",
       "    }\n",
       "\n",
       "    .dataframe thead th {\n",
       "        text-align: right;\n",
       "    }\n",
       "</style>\n",
       "<table border=\"1\" class=\"dataframe\">\n",
       "  <thead>\n",
       "    <tr style=\"text-align: right;\">\n",
       "      <th></th>\n",
       "      <th>rowid</th>\n",
       "      <th>species</th>\n",
       "      <th>island</th>\n",
       "      <th>bill_length_mm</th>\n",
       "      <th>bill_depth_mm</th>\n",
       "      <th>flipper_length_mm</th>\n",
       "      <th>body_mass_g</th>\n",
       "      <th>sex</th>\n",
       "      <th>year</th>\n",
       "    </tr>\n",
       "  </thead>\n",
       "  <tbody>\n",
       "    <tr>\n",
       "      <th>0</th>\n",
       "      <td>1</td>\n",
       "      <td>Adelie</td>\n",
       "      <td>Torgersen</td>\n",
       "      <td>39.1</td>\n",
       "      <td>18.7</td>\n",
       "      <td>181.0</td>\n",
       "      <td>3750.0</td>\n",
       "      <td>male</td>\n",
       "      <td>2007</td>\n",
       "    </tr>\n",
       "    <tr>\n",
       "      <th>1</th>\n",
       "      <td>2</td>\n",
       "      <td>Adelie</td>\n",
       "      <td>Torgersen</td>\n",
       "      <td>39.5</td>\n",
       "      <td>17.4</td>\n",
       "      <td>186.0</td>\n",
       "      <td>3800.0</td>\n",
       "      <td>female</td>\n",
       "      <td>2007</td>\n",
       "    </tr>\n",
       "    <tr>\n",
       "      <th>2</th>\n",
       "      <td>3</td>\n",
       "      <td>Adelie</td>\n",
       "      <td>Torgersen</td>\n",
       "      <td>40.3</td>\n",
       "      <td>18.0</td>\n",
       "      <td>195.0</td>\n",
       "      <td>3250.0</td>\n",
       "      <td>female</td>\n",
       "      <td>2007</td>\n",
       "    </tr>\n",
       "    <tr>\n",
       "      <th>3</th>\n",
       "      <td>4</td>\n",
       "      <td>Adelie</td>\n",
       "      <td>Torgersen</td>\n",
       "      <td>NaN</td>\n",
       "      <td>NaN</td>\n",
       "      <td>NaN</td>\n",
       "      <td>NaN</td>\n",
       "      <td>NaN</td>\n",
       "      <td>2007</td>\n",
       "    </tr>\n",
       "    <tr>\n",
       "      <th>4</th>\n",
       "      <td>5</td>\n",
       "      <td>Adelie</td>\n",
       "      <td>Torgersen</td>\n",
       "      <td>36.7</td>\n",
       "      <td>19.3</td>\n",
       "      <td>193.0</td>\n",
       "      <td>3450.0</td>\n",
       "      <td>female</td>\n",
       "      <td>2007</td>\n",
       "    </tr>\n",
       "    <tr>\n",
       "      <th>...</th>\n",
       "      <td>...</td>\n",
       "      <td>...</td>\n",
       "      <td>...</td>\n",
       "      <td>...</td>\n",
       "      <td>...</td>\n",
       "      <td>...</td>\n",
       "      <td>...</td>\n",
       "      <td>...</td>\n",
       "      <td>...</td>\n",
       "    </tr>\n",
       "    <tr>\n",
       "      <th>339</th>\n",
       "      <td>340</td>\n",
       "      <td>Chinstrap</td>\n",
       "      <td>Dream</td>\n",
       "      <td>55.8</td>\n",
       "      <td>19.8</td>\n",
       "      <td>207.0</td>\n",
       "      <td>4000.0</td>\n",
       "      <td>male</td>\n",
       "      <td>2009</td>\n",
       "    </tr>\n",
       "    <tr>\n",
       "      <th>340</th>\n",
       "      <td>341</td>\n",
       "      <td>Chinstrap</td>\n",
       "      <td>Dream</td>\n",
       "      <td>43.5</td>\n",
       "      <td>18.1</td>\n",
       "      <td>202.0</td>\n",
       "      <td>3400.0</td>\n",
       "      <td>female</td>\n",
       "      <td>2009</td>\n",
       "    </tr>\n",
       "    <tr>\n",
       "      <th>341</th>\n",
       "      <td>342</td>\n",
       "      <td>Chinstrap</td>\n",
       "      <td>Dream</td>\n",
       "      <td>49.6</td>\n",
       "      <td>18.2</td>\n",
       "      <td>193.0</td>\n",
       "      <td>3775.0</td>\n",
       "      <td>male</td>\n",
       "      <td>2009</td>\n",
       "    </tr>\n",
       "    <tr>\n",
       "      <th>342</th>\n",
       "      <td>343</td>\n",
       "      <td>Chinstrap</td>\n",
       "      <td>Dream</td>\n",
       "      <td>50.8</td>\n",
       "      <td>19.0</td>\n",
       "      <td>210.0</td>\n",
       "      <td>4100.0</td>\n",
       "      <td>male</td>\n",
       "      <td>2009</td>\n",
       "    </tr>\n",
       "    <tr>\n",
       "      <th>343</th>\n",
       "      <td>344</td>\n",
       "      <td>Chinstrap</td>\n",
       "      <td>Dream</td>\n",
       "      <td>50.2</td>\n",
       "      <td>18.7</td>\n",
       "      <td>198.0</td>\n",
       "      <td>3775.0</td>\n",
       "      <td>female</td>\n",
       "      <td>2009</td>\n",
       "    </tr>\n",
       "  </tbody>\n",
       "</table>\n",
       "<p>344 rows × 9 columns</p>\n",
       "</div>"
      ],
      "text/plain": [
       "     rowid    species     island  bill_length_mm  bill_depth_mm  \\\n",
       "0        1     Adelie  Torgersen            39.1           18.7   \n",
       "1        2     Adelie  Torgersen            39.5           17.4   \n",
       "2        3     Adelie  Torgersen            40.3           18.0   \n",
       "3        4     Adelie  Torgersen             NaN            NaN   \n",
       "4        5     Adelie  Torgersen            36.7           19.3   \n",
       "..     ...        ...        ...             ...            ...   \n",
       "339    340  Chinstrap      Dream            55.8           19.8   \n",
       "340    341  Chinstrap      Dream            43.5           18.1   \n",
       "341    342  Chinstrap      Dream            49.6           18.2   \n",
       "342    343  Chinstrap      Dream            50.8           19.0   \n",
       "343    344  Chinstrap      Dream            50.2           18.7   \n",
       "\n",
       "     flipper_length_mm  body_mass_g     sex  year  \n",
       "0                181.0       3750.0    male  2007  \n",
       "1                186.0       3800.0  female  2007  \n",
       "2                195.0       3250.0  female  2007  \n",
       "3                  NaN          NaN     NaN  2007  \n",
       "4                193.0       3450.0  female  2007  \n",
       "..                 ...          ...     ...   ...  \n",
       "339              207.0       4000.0    male  2009  \n",
       "340              202.0       3400.0  female  2009  \n",
       "341              193.0       3775.0    male  2009  \n",
       "342              210.0       4100.0    male  2009  \n",
       "343              198.0       3775.0  female  2009  \n",
       "\n",
       "[344 rows x 9 columns]"
      ]
     },
     "execution_count": 5,
     "metadata": {},
     "output_type": "execute_result"
    }
   ],
   "source": [
    "penguins = pd.read_csv('datasets\\\\penguins.csv')\n",
    "penguins"
   ]
  },
  {
   "cell_type": "code",
   "execution_count": 6,
   "id": "350754ff-abb3-477a-8ff2-c7d51f89cf3b",
   "metadata": {},
   "outputs": [
    {
     "name": "stdout",
     "output_type": "stream",
     "text": [
      "<class 'pandas.core.frame.DataFrame'>\n",
      "RangeIndex: 344 entries, 0 to 343\n",
      "Data columns (total 9 columns):\n",
      " #   Column             Non-Null Count  Dtype  \n",
      "---  ------             --------------  -----  \n",
      " 0   rowid              344 non-null    int64  \n",
      " 1   species            344 non-null    object \n",
      " 2   island             344 non-null    object \n",
      " 3   bill_length_mm     342 non-null    float64\n",
      " 4   bill_depth_mm      342 non-null    float64\n",
      " 5   flipper_length_mm  342 non-null    float64\n",
      " 6   body_mass_g        342 non-null    float64\n",
      " 7   sex                333 non-null    object \n",
      " 8   year               344 non-null    int64  \n",
      "dtypes: float64(4), int64(2), object(3)\n",
      "memory usage: 24.3+ KB\n"
     ]
    }
   ],
   "source": [
    "penguins.info()"
   ]
  },
  {
   "cell_type": "code",
   "execution_count": 7,
   "id": "ce486ab2-3de8-4346-8a11-5a12f6e378eb",
   "metadata": {},
   "outputs": [
    {
     "data": {
      "text/html": [
       "<div>\n",
       "<style scoped>\n",
       "    .dataframe tbody tr th:only-of-type {\n",
       "        vertical-align: middle;\n",
       "    }\n",
       "\n",
       "    .dataframe tbody tr th {\n",
       "        vertical-align: top;\n",
       "    }\n",
       "\n",
       "    .dataframe thead th {\n",
       "        text-align: right;\n",
       "    }\n",
       "</style>\n",
       "<table border=\"1\" class=\"dataframe\">\n",
       "  <thead>\n",
       "    <tr style=\"text-align: right;\">\n",
       "      <th></th>\n",
       "      <th>rowid</th>\n",
       "      <th>bill_length_mm</th>\n",
       "      <th>bill_depth_mm</th>\n",
       "      <th>flipper_length_mm</th>\n",
       "      <th>body_mass_g</th>\n",
       "      <th>year</th>\n",
       "    </tr>\n",
       "  </thead>\n",
       "  <tbody>\n",
       "    <tr>\n",
       "      <th>count</th>\n",
       "      <td>344.000000</td>\n",
       "      <td>342.000000</td>\n",
       "      <td>342.000000</td>\n",
       "      <td>342.000000</td>\n",
       "      <td>342.000000</td>\n",
       "      <td>344.000000</td>\n",
       "    </tr>\n",
       "    <tr>\n",
       "      <th>mean</th>\n",
       "      <td>172.500000</td>\n",
       "      <td>43.921930</td>\n",
       "      <td>17.151170</td>\n",
       "      <td>200.915205</td>\n",
       "      <td>4201.754386</td>\n",
       "      <td>2008.029070</td>\n",
       "    </tr>\n",
       "    <tr>\n",
       "      <th>std</th>\n",
       "      <td>99.448479</td>\n",
       "      <td>5.459584</td>\n",
       "      <td>1.974793</td>\n",
       "      <td>14.061714</td>\n",
       "      <td>801.954536</td>\n",
       "      <td>0.818356</td>\n",
       "    </tr>\n",
       "    <tr>\n",
       "      <th>min</th>\n",
       "      <td>1.000000</td>\n",
       "      <td>32.100000</td>\n",
       "      <td>13.100000</td>\n",
       "      <td>172.000000</td>\n",
       "      <td>2700.000000</td>\n",
       "      <td>2007.000000</td>\n",
       "    </tr>\n",
       "    <tr>\n",
       "      <th>25%</th>\n",
       "      <td>86.750000</td>\n",
       "      <td>39.225000</td>\n",
       "      <td>15.600000</td>\n",
       "      <td>190.000000</td>\n",
       "      <td>3550.000000</td>\n",
       "      <td>2007.000000</td>\n",
       "    </tr>\n",
       "    <tr>\n",
       "      <th>50%</th>\n",
       "      <td>172.500000</td>\n",
       "      <td>44.450000</td>\n",
       "      <td>17.300000</td>\n",
       "      <td>197.000000</td>\n",
       "      <td>4050.000000</td>\n",
       "      <td>2008.000000</td>\n",
       "    </tr>\n",
       "    <tr>\n",
       "      <th>75%</th>\n",
       "      <td>258.250000</td>\n",
       "      <td>48.500000</td>\n",
       "      <td>18.700000</td>\n",
       "      <td>213.000000</td>\n",
       "      <td>4750.000000</td>\n",
       "      <td>2009.000000</td>\n",
       "    </tr>\n",
       "    <tr>\n",
       "      <th>max</th>\n",
       "      <td>344.000000</td>\n",
       "      <td>59.600000</td>\n",
       "      <td>21.500000</td>\n",
       "      <td>231.000000</td>\n",
       "      <td>6300.000000</td>\n",
       "      <td>2009.000000</td>\n",
       "    </tr>\n",
       "  </tbody>\n",
       "</table>\n",
       "</div>"
      ],
      "text/plain": [
       "            rowid  bill_length_mm  bill_depth_mm  flipper_length_mm  \\\n",
       "count  344.000000      342.000000     342.000000         342.000000   \n",
       "mean   172.500000       43.921930      17.151170         200.915205   \n",
       "std     99.448479        5.459584       1.974793          14.061714   \n",
       "min      1.000000       32.100000      13.100000         172.000000   \n",
       "25%     86.750000       39.225000      15.600000         190.000000   \n",
       "50%    172.500000       44.450000      17.300000         197.000000   \n",
       "75%    258.250000       48.500000      18.700000         213.000000   \n",
       "max    344.000000       59.600000      21.500000         231.000000   \n",
       "\n",
       "       body_mass_g         year  \n",
       "count   342.000000   344.000000  \n",
       "mean   4201.754386  2008.029070  \n",
       "std     801.954536     0.818356  \n",
       "min    2700.000000  2007.000000  \n",
       "25%    3550.000000  2007.000000  \n",
       "50%    4050.000000  2008.000000  \n",
       "75%    4750.000000  2009.000000  \n",
       "max    6300.000000  2009.000000  "
      ]
     },
     "execution_count": 7,
     "metadata": {},
     "output_type": "execute_result"
    }
   ],
   "source": [
    "penguins.describe()"
   ]
  },
  {
   "cell_type": "code",
   "execution_count": 8,
   "id": "f64de2ac-e9a0-4e39-b583-77d462383ecb",
   "metadata": {},
   "outputs": [
    {
     "data": {
      "text/plain": [
       "rowid                 0\n",
       "species               0\n",
       "island                0\n",
       "bill_length_mm        2\n",
       "bill_depth_mm         2\n",
       "flipper_length_mm     2\n",
       "body_mass_g           2\n",
       "sex                  11\n",
       "year                  0\n",
       "dtype: int64"
      ]
     },
     "execution_count": 8,
     "metadata": {},
     "output_type": "execute_result"
    }
   ],
   "source": [
    "penguins.isnull().sum()"
   ]
  },
  {
   "cell_type": "code",
   "execution_count": 9,
   "id": "76a70114-f873-45fd-81b0-bd6ab7073218",
   "metadata": {},
   "outputs": [
    {
     "data": {
      "text/plain": [
       "rowid                0\n",
       "species              0\n",
       "island               0\n",
       "bill_length_mm       0\n",
       "bill_depth_mm        0\n",
       "flipper_length_mm    0\n",
       "body_mass_g          0\n",
       "sex                  0\n",
       "year                 0\n",
       "dtype: int64"
      ]
     },
     "execution_count": 9,
     "metadata": {},
     "output_type": "execute_result"
    }
   ],
   "source": [
    "penguins['bill_length_mm'] = penguins['bill_length_mm'].fillna(penguins['bill_length_mm'].mean())\n",
    "penguins['bill_depth_mm'] = penguins['bill_depth_mm'].fillna(penguins['bill_depth_mm'].mean())\n",
    "penguins['flipper_length_mm'] = penguins['flipper_length_mm'].fillna(penguins['flipper_length_mm'].mean())\n",
    "penguins['body_mass_g'] = penguins['body_mass_g'].fillna(penguins['body_mass_g'].mean())\n",
    "penguins['sex'] = penguins['sex'].fillna(penguins['sex'].mode()[0])\n",
    "\n",
    "penguins.isnull().sum()"
   ]
  },
  {
   "cell_type": "code",
   "execution_count": 10,
   "id": "51bf3f0d-ada9-4c2a-a6a0-967eae3c5905",
   "metadata": {},
   "outputs": [
    {
     "name": "stdout",
     "output_type": "stream",
     "text": [
      "<class 'pandas.core.frame.DataFrame'>\n",
      "RangeIndex: 344 entries, 0 to 343\n",
      "Data columns (total 9 columns):\n",
      " #   Column             Non-Null Count  Dtype   \n",
      "---  ------             --------------  -----   \n",
      " 0   rowid              344 non-null    category\n",
      " 1   species            344 non-null    category\n",
      " 2   island             344 non-null    category\n",
      " 3   bill_length_mm     344 non-null    float64 \n",
      " 4   bill_depth_mm      344 non-null    float64 \n",
      " 5   flipper_length_mm  344 non-null    float64 \n",
      " 6   body_mass_g        344 non-null    float64 \n",
      " 7   sex                344 non-null    category\n",
      " 8   year               344 non-null    category\n",
      "dtypes: category(5), float64(4)\n",
      "memory usage: 24.2 KB\n"
     ]
    }
   ],
   "source": [
    "penguins['rowid'] = penguins['rowid'].astype('category')\n",
    "penguins['species'] = penguins['species'].astype('category')\n",
    "penguins['island'] = penguins['island'].astype('category')\n",
    "penguins['sex'] = penguins['sex'].astype('category')\n",
    "penguins['year'] = penguins['year'].astype('category')\n",
    "\n",
    "penguins.info()"
   ]
  },
  {
   "cell_type": "markdown",
   "id": "b3adb01c-f34e-4a61-b983-5f261c251acf",
   "metadata": {},
   "source": [
    "<h1>---Data Exploration</h1>"
   ]
  },
  {
   "cell_type": "code",
   "execution_count": 11,
   "id": "0faf9d75-e36e-45f3-9e14-2866766c3663",
   "metadata": {},
   "outputs": [
    {
     "data": {
      "text/plain": [
       "species\n",
       "Adelie       152\n",
       "Gentoo       124\n",
       "Chinstrap     68\n",
       "Name: count, dtype: int64"
      ]
     },
     "execution_count": 11,
     "metadata": {},
     "output_type": "execute_result"
    }
   ],
   "source": [
    "penguins['species'].value_counts()"
   ]
  },
  {
   "cell_type": "code",
   "execution_count": 12,
   "id": "fa87f58e-80ac-469d-9c92-05d2f90277a2",
   "metadata": {},
   "outputs": [
    {
     "data": {
      "text/plain": [
       "island\n",
       "Biscoe       168\n",
       "Dream        124\n",
       "Torgersen     52\n",
       "Name: count, dtype: int64"
      ]
     },
     "execution_count": 12,
     "metadata": {},
     "output_type": "execute_result"
    }
   ],
   "source": [
    "penguins['island'].value_counts()"
   ]
  },
  {
   "cell_type": "code",
   "execution_count": 13,
   "id": "eaa74a1a-6b61-4b29-9952-4c9ac76717cc",
   "metadata": {},
   "outputs": [
    {
     "data": {
      "text/plain": [
       "0       True\n",
       "1       True\n",
       "2       True\n",
       "3       True\n",
       "4       True\n",
       "       ...  \n",
       "339    False\n",
       "340    False\n",
       "341    False\n",
       "342    False\n",
       "343    False\n",
       "Name: species, Length: 344, dtype: bool"
      ]
     },
     "execution_count": 13,
     "metadata": {},
     "output_type": "execute_result"
    }
   ],
   "source": [
    "penguins['species'] == 'Adelie'"
   ]
  },
  {
   "cell_type": "code",
   "execution_count": 14,
   "id": "667a35ac-2bcb-47ce-a5c2-9c58a0da5635",
   "metadata": {},
   "outputs": [
    {
     "data": {
      "text/html": [
       "<div>\n",
       "<style scoped>\n",
       "    .dataframe tbody tr th:only-of-type {\n",
       "        vertical-align: middle;\n",
       "    }\n",
       "\n",
       "    .dataframe tbody tr th {\n",
       "        vertical-align: top;\n",
       "    }\n",
       "\n",
       "    .dataframe thead th {\n",
       "        text-align: right;\n",
       "    }\n",
       "</style>\n",
       "<table border=\"1\" class=\"dataframe\">\n",
       "  <thead>\n",
       "    <tr style=\"text-align: right;\">\n",
       "      <th></th>\n",
       "      <th>rowid</th>\n",
       "      <th>species</th>\n",
       "      <th>island</th>\n",
       "      <th>bill_length_mm</th>\n",
       "      <th>bill_depth_mm</th>\n",
       "      <th>flipper_length_mm</th>\n",
       "      <th>body_mass_g</th>\n",
       "      <th>sex</th>\n",
       "      <th>year</th>\n",
       "    </tr>\n",
       "  </thead>\n",
       "  <tbody>\n",
       "    <tr>\n",
       "      <th>0</th>\n",
       "      <td>1</td>\n",
       "      <td>Adelie</td>\n",
       "      <td>Torgersen</td>\n",
       "      <td>39.10000</td>\n",
       "      <td>18.70000</td>\n",
       "      <td>181.000000</td>\n",
       "      <td>3750.000000</td>\n",
       "      <td>male</td>\n",
       "      <td>2007</td>\n",
       "    </tr>\n",
       "    <tr>\n",
       "      <th>1</th>\n",
       "      <td>2</td>\n",
       "      <td>Adelie</td>\n",
       "      <td>Torgersen</td>\n",
       "      <td>39.50000</td>\n",
       "      <td>17.40000</td>\n",
       "      <td>186.000000</td>\n",
       "      <td>3800.000000</td>\n",
       "      <td>female</td>\n",
       "      <td>2007</td>\n",
       "    </tr>\n",
       "    <tr>\n",
       "      <th>2</th>\n",
       "      <td>3</td>\n",
       "      <td>Adelie</td>\n",
       "      <td>Torgersen</td>\n",
       "      <td>40.30000</td>\n",
       "      <td>18.00000</td>\n",
       "      <td>195.000000</td>\n",
       "      <td>3250.000000</td>\n",
       "      <td>female</td>\n",
       "      <td>2007</td>\n",
       "    </tr>\n",
       "    <tr>\n",
       "      <th>3</th>\n",
       "      <td>4</td>\n",
       "      <td>Adelie</td>\n",
       "      <td>Torgersen</td>\n",
       "      <td>43.92193</td>\n",
       "      <td>17.15117</td>\n",
       "      <td>200.915205</td>\n",
       "      <td>4201.754386</td>\n",
       "      <td>male</td>\n",
       "      <td>2007</td>\n",
       "    </tr>\n",
       "    <tr>\n",
       "      <th>4</th>\n",
       "      <td>5</td>\n",
       "      <td>Adelie</td>\n",
       "      <td>Torgersen</td>\n",
       "      <td>36.70000</td>\n",
       "      <td>19.30000</td>\n",
       "      <td>193.000000</td>\n",
       "      <td>3450.000000</td>\n",
       "      <td>female</td>\n",
       "      <td>2007</td>\n",
       "    </tr>\n",
       "    <tr>\n",
       "      <th>...</th>\n",
       "      <td>...</td>\n",
       "      <td>...</td>\n",
       "      <td>...</td>\n",
       "      <td>...</td>\n",
       "      <td>...</td>\n",
       "      <td>...</td>\n",
       "      <td>...</td>\n",
       "      <td>...</td>\n",
       "      <td>...</td>\n",
       "    </tr>\n",
       "    <tr>\n",
       "      <th>147</th>\n",
       "      <td>148</td>\n",
       "      <td>Adelie</td>\n",
       "      <td>Dream</td>\n",
       "      <td>36.60000</td>\n",
       "      <td>18.40000</td>\n",
       "      <td>184.000000</td>\n",
       "      <td>3475.000000</td>\n",
       "      <td>female</td>\n",
       "      <td>2009</td>\n",
       "    </tr>\n",
       "    <tr>\n",
       "      <th>148</th>\n",
       "      <td>149</td>\n",
       "      <td>Adelie</td>\n",
       "      <td>Dream</td>\n",
       "      <td>36.00000</td>\n",
       "      <td>17.80000</td>\n",
       "      <td>195.000000</td>\n",
       "      <td>3450.000000</td>\n",
       "      <td>female</td>\n",
       "      <td>2009</td>\n",
       "    </tr>\n",
       "    <tr>\n",
       "      <th>149</th>\n",
       "      <td>150</td>\n",
       "      <td>Adelie</td>\n",
       "      <td>Dream</td>\n",
       "      <td>37.80000</td>\n",
       "      <td>18.10000</td>\n",
       "      <td>193.000000</td>\n",
       "      <td>3750.000000</td>\n",
       "      <td>male</td>\n",
       "      <td>2009</td>\n",
       "    </tr>\n",
       "    <tr>\n",
       "      <th>150</th>\n",
       "      <td>151</td>\n",
       "      <td>Adelie</td>\n",
       "      <td>Dream</td>\n",
       "      <td>36.00000</td>\n",
       "      <td>17.10000</td>\n",
       "      <td>187.000000</td>\n",
       "      <td>3700.000000</td>\n",
       "      <td>female</td>\n",
       "      <td>2009</td>\n",
       "    </tr>\n",
       "    <tr>\n",
       "      <th>151</th>\n",
       "      <td>152</td>\n",
       "      <td>Adelie</td>\n",
       "      <td>Dream</td>\n",
       "      <td>41.50000</td>\n",
       "      <td>18.50000</td>\n",
       "      <td>201.000000</td>\n",
       "      <td>4000.000000</td>\n",
       "      <td>male</td>\n",
       "      <td>2009</td>\n",
       "    </tr>\n",
       "  </tbody>\n",
       "</table>\n",
       "<p>152 rows × 9 columns</p>\n",
       "</div>"
      ],
      "text/plain": [
       "    rowid species     island  bill_length_mm  bill_depth_mm  \\\n",
       "0       1  Adelie  Torgersen        39.10000       18.70000   \n",
       "1       2  Adelie  Torgersen        39.50000       17.40000   \n",
       "2       3  Adelie  Torgersen        40.30000       18.00000   \n",
       "3       4  Adelie  Torgersen        43.92193       17.15117   \n",
       "4       5  Adelie  Torgersen        36.70000       19.30000   \n",
       "..    ...     ...        ...             ...            ...   \n",
       "147   148  Adelie      Dream        36.60000       18.40000   \n",
       "148   149  Adelie      Dream        36.00000       17.80000   \n",
       "149   150  Adelie      Dream        37.80000       18.10000   \n",
       "150   151  Adelie      Dream        36.00000       17.10000   \n",
       "151   152  Adelie      Dream        41.50000       18.50000   \n",
       "\n",
       "     flipper_length_mm  body_mass_g     sex  year  \n",
       "0           181.000000  3750.000000    male  2007  \n",
       "1           186.000000  3800.000000  female  2007  \n",
       "2           195.000000  3250.000000  female  2007  \n",
       "3           200.915205  4201.754386    male  2007  \n",
       "4           193.000000  3450.000000  female  2007  \n",
       "..                 ...          ...     ...   ...  \n",
       "147         184.000000  3475.000000  female  2009  \n",
       "148         195.000000  3450.000000  female  2009  \n",
       "149         193.000000  3750.000000    male  2009  \n",
       "150         187.000000  3700.000000  female  2009  \n",
       "151         201.000000  4000.000000    male  2009  \n",
       "\n",
       "[152 rows x 9 columns]"
      ]
     },
     "execution_count": 14,
     "metadata": {},
     "output_type": "execute_result"
    }
   ],
   "source": [
    "penguins[penguins['species'] == 'Adelie']"
   ]
  },
  {
   "cell_type": "code",
   "execution_count": 15,
   "id": "a1a5c64d-586c-4e75-ab1f-3d69ffa3cdcc",
   "metadata": {},
   "outputs": [
    {
     "data": {
      "text/html": [
       "<div>\n",
       "<style scoped>\n",
       "    .dataframe tbody tr th:only-of-type {\n",
       "        vertical-align: middle;\n",
       "    }\n",
       "\n",
       "    .dataframe tbody tr th {\n",
       "        vertical-align: top;\n",
       "    }\n",
       "\n",
       "    .dataframe thead th {\n",
       "        text-align: right;\n",
       "    }\n",
       "</style>\n",
       "<table border=\"1\" class=\"dataframe\">\n",
       "  <thead>\n",
       "    <tr style=\"text-align: right;\">\n",
       "      <th></th>\n",
       "      <th>rowid</th>\n",
       "      <th>species</th>\n",
       "      <th>island</th>\n",
       "      <th>bill_length_mm</th>\n",
       "      <th>bill_depth_mm</th>\n",
       "      <th>flipper_length_mm</th>\n",
       "      <th>body_mass_g</th>\n",
       "      <th>sex</th>\n",
       "      <th>year</th>\n",
       "      <th>wkilo</th>\n",
       "    </tr>\n",
       "  </thead>\n",
       "  <tbody>\n",
       "    <tr>\n",
       "      <th>0</th>\n",
       "      <td>1</td>\n",
       "      <td>Adelie</td>\n",
       "      <td>Torgersen</td>\n",
       "      <td>39.10000</td>\n",
       "      <td>18.70000</td>\n",
       "      <td>181.000000</td>\n",
       "      <td>3750.000000</td>\n",
       "      <td>male</td>\n",
       "      <td>2007</td>\n",
       "      <td>3.8</td>\n",
       "    </tr>\n",
       "    <tr>\n",
       "      <th>1</th>\n",
       "      <td>2</td>\n",
       "      <td>Adelie</td>\n",
       "      <td>Torgersen</td>\n",
       "      <td>39.50000</td>\n",
       "      <td>17.40000</td>\n",
       "      <td>186.000000</td>\n",
       "      <td>3800.000000</td>\n",
       "      <td>female</td>\n",
       "      <td>2007</td>\n",
       "      <td>3.8</td>\n",
       "    </tr>\n",
       "    <tr>\n",
       "      <th>2</th>\n",
       "      <td>3</td>\n",
       "      <td>Adelie</td>\n",
       "      <td>Torgersen</td>\n",
       "      <td>40.30000</td>\n",
       "      <td>18.00000</td>\n",
       "      <td>195.000000</td>\n",
       "      <td>3250.000000</td>\n",
       "      <td>female</td>\n",
       "      <td>2007</td>\n",
       "      <td>3.2</td>\n",
       "    </tr>\n",
       "    <tr>\n",
       "      <th>3</th>\n",
       "      <td>4</td>\n",
       "      <td>Adelie</td>\n",
       "      <td>Torgersen</td>\n",
       "      <td>43.92193</td>\n",
       "      <td>17.15117</td>\n",
       "      <td>200.915205</td>\n",
       "      <td>4201.754386</td>\n",
       "      <td>male</td>\n",
       "      <td>2007</td>\n",
       "      <td>4.2</td>\n",
       "    </tr>\n",
       "    <tr>\n",
       "      <th>4</th>\n",
       "      <td>5</td>\n",
       "      <td>Adelie</td>\n",
       "      <td>Torgersen</td>\n",
       "      <td>36.70000</td>\n",
       "      <td>19.30000</td>\n",
       "      <td>193.000000</td>\n",
       "      <td>3450.000000</td>\n",
       "      <td>female</td>\n",
       "      <td>2007</td>\n",
       "      <td>3.4</td>\n",
       "    </tr>\n",
       "    <tr>\n",
       "      <th>...</th>\n",
       "      <td>...</td>\n",
       "      <td>...</td>\n",
       "      <td>...</td>\n",
       "      <td>...</td>\n",
       "      <td>...</td>\n",
       "      <td>...</td>\n",
       "      <td>...</td>\n",
       "      <td>...</td>\n",
       "      <td>...</td>\n",
       "      <td>...</td>\n",
       "    </tr>\n",
       "    <tr>\n",
       "      <th>339</th>\n",
       "      <td>340</td>\n",
       "      <td>Chinstrap</td>\n",
       "      <td>Dream</td>\n",
       "      <td>55.80000</td>\n",
       "      <td>19.80000</td>\n",
       "      <td>207.000000</td>\n",
       "      <td>4000.000000</td>\n",
       "      <td>male</td>\n",
       "      <td>2009</td>\n",
       "      <td>4.0</td>\n",
       "    </tr>\n",
       "    <tr>\n",
       "      <th>340</th>\n",
       "      <td>341</td>\n",
       "      <td>Chinstrap</td>\n",
       "      <td>Dream</td>\n",
       "      <td>43.50000</td>\n",
       "      <td>18.10000</td>\n",
       "      <td>202.000000</td>\n",
       "      <td>3400.000000</td>\n",
       "      <td>female</td>\n",
       "      <td>2009</td>\n",
       "      <td>3.4</td>\n",
       "    </tr>\n",
       "    <tr>\n",
       "      <th>341</th>\n",
       "      <td>342</td>\n",
       "      <td>Chinstrap</td>\n",
       "      <td>Dream</td>\n",
       "      <td>49.60000</td>\n",
       "      <td>18.20000</td>\n",
       "      <td>193.000000</td>\n",
       "      <td>3775.000000</td>\n",
       "      <td>male</td>\n",
       "      <td>2009</td>\n",
       "      <td>3.8</td>\n",
       "    </tr>\n",
       "    <tr>\n",
       "      <th>342</th>\n",
       "      <td>343</td>\n",
       "      <td>Chinstrap</td>\n",
       "      <td>Dream</td>\n",
       "      <td>50.80000</td>\n",
       "      <td>19.00000</td>\n",
       "      <td>210.000000</td>\n",
       "      <td>4100.000000</td>\n",
       "      <td>male</td>\n",
       "      <td>2009</td>\n",
       "      <td>4.1</td>\n",
       "    </tr>\n",
       "    <tr>\n",
       "      <th>343</th>\n",
       "      <td>344</td>\n",
       "      <td>Chinstrap</td>\n",
       "      <td>Dream</td>\n",
       "      <td>50.20000</td>\n",
       "      <td>18.70000</td>\n",
       "      <td>198.000000</td>\n",
       "      <td>3775.000000</td>\n",
       "      <td>female</td>\n",
       "      <td>2009</td>\n",
       "      <td>3.8</td>\n",
       "    </tr>\n",
       "  </tbody>\n",
       "</table>\n",
       "<p>344 rows × 10 columns</p>\n",
       "</div>"
      ],
      "text/plain": [
       "    rowid    species     island  bill_length_mm  bill_depth_mm  \\\n",
       "0       1     Adelie  Torgersen        39.10000       18.70000   \n",
       "1       2     Adelie  Torgersen        39.50000       17.40000   \n",
       "2       3     Adelie  Torgersen        40.30000       18.00000   \n",
       "3       4     Adelie  Torgersen        43.92193       17.15117   \n",
       "4       5     Adelie  Torgersen        36.70000       19.30000   \n",
       "..    ...        ...        ...             ...            ...   \n",
       "339   340  Chinstrap      Dream        55.80000       19.80000   \n",
       "340   341  Chinstrap      Dream        43.50000       18.10000   \n",
       "341   342  Chinstrap      Dream        49.60000       18.20000   \n",
       "342   343  Chinstrap      Dream        50.80000       19.00000   \n",
       "343   344  Chinstrap      Dream        50.20000       18.70000   \n",
       "\n",
       "     flipper_length_mm  body_mass_g     sex  year  wkilo  \n",
       "0           181.000000  3750.000000    male  2007    3.8  \n",
       "1           186.000000  3800.000000  female  2007    3.8  \n",
       "2           195.000000  3250.000000  female  2007    3.2  \n",
       "3           200.915205  4201.754386    male  2007    4.2  \n",
       "4           193.000000  3450.000000  female  2007    3.4  \n",
       "..                 ...          ...     ...   ...    ...  \n",
       "339         207.000000  4000.000000    male  2009    4.0  \n",
       "340         202.000000  3400.000000  female  2009    3.4  \n",
       "341         193.000000  3775.000000    male  2009    3.8  \n",
       "342         210.000000  4100.000000    male  2009    4.1  \n",
       "343         198.000000  3775.000000  female  2009    3.8  \n",
       "\n",
       "[344 rows x 10 columns]"
      ]
     },
     "execution_count": 15,
     "metadata": {},
     "output_type": "execute_result"
    }
   ],
   "source": [
    "penguins['wkilo'] = np.round(penguins['body_mass_g'] / 1000, 1)\n",
    "penguins"
   ]
  },
  {
   "cell_type": "markdown",
   "id": "48f6fe99-0acd-4f8d-8eb7-8d2b31c7f34a",
   "metadata": {},
   "source": [
    "<h1>#1 Does the Penguins species \"Adelie\" lives exclusively for Biscoe Island</h1>"
   ]
  },
  {
   "cell_type": "markdown",
   "id": "b9566742-1a11-4501-9d13-5999e929a9ee",
   "metadata": {},
   "source": [
    "<h2>---Adelie---</h2>"
   ]
  },
  {
   "cell_type": "code",
   "execution_count": 16,
   "id": "99560487-3c32-49ef-ae73-e757e19b86b1",
   "metadata": {},
   "outputs": [
    {
     "data": {
      "text/plain": [
       "0       True\n",
       "1       True\n",
       "2       True\n",
       "3       True\n",
       "4       True\n",
       "       ...  \n",
       "339    False\n",
       "340    False\n",
       "341    False\n",
       "342    False\n",
       "343    False\n",
       "Name: species, Length: 344, dtype: bool"
      ]
     },
     "execution_count": 16,
     "metadata": {},
     "output_type": "execute_result"
    }
   ],
   "source": [
    "penguins['species'] == 'Adelie'"
   ]
  },
  {
   "cell_type": "code",
   "execution_count": 17,
   "id": "40123081-96ee-4042-8585-aacc9ec023ca",
   "metadata": {},
   "outputs": [
    {
     "data": {
      "text/plain": [
       "0      False\n",
       "1      False\n",
       "2      False\n",
       "3      False\n",
       "4      False\n",
       "       ...  \n",
       "339    False\n",
       "340    False\n",
       "341    False\n",
       "342    False\n",
       "343    False\n",
       "Name: island, Length: 344, dtype: bool"
      ]
     },
     "execution_count": 17,
     "metadata": {},
     "output_type": "execute_result"
    }
   ],
   "source": [
    "penguins['island'] == 'Biscoe'"
   ]
  },
  {
   "cell_type": "markdown",
   "id": "593a3b90-7556-4233-9c56-8263ee15d462",
   "metadata": {},
   "source": [
    "<h2>---Adelie in Biscoe---</h2>"
   ]
  },
  {
   "cell_type": "code",
   "execution_count": 18,
   "id": "37429480-6264-41f7-bf77-2bbdd3d0a64a",
   "metadata": {},
   "outputs": [
    {
     "data": {
      "text/plain": [
       "rowid                44\n",
       "species              44\n",
       "island               44\n",
       "bill_length_mm       44\n",
       "bill_depth_mm        44\n",
       "flipper_length_mm    44\n",
       "body_mass_g          44\n",
       "sex                  44\n",
       "year                 44\n",
       "wkilo                44\n",
       "dtype: int64"
      ]
     },
     "execution_count": 18,
     "metadata": {},
     "output_type": "execute_result"
    }
   ],
   "source": [
    "penguins[(penguins['species'] == 'Adelie') & (penguins['island'] == 'Biscoe')].count()"
   ]
  },
  {
   "cell_type": "markdown",
   "id": "2b209081-219d-4a3d-899d-2ef653d2d696",
   "metadata": {},
   "source": [
    "<h2>---Adelie in Dream---</h2>"
   ]
  },
  {
   "cell_type": "code",
   "execution_count": 19,
   "id": "73f6e918-dbd6-4b37-b7b6-96befc6bea40",
   "metadata": {},
   "outputs": [
    {
     "data": {
      "text/plain": [
       "rowid                56\n",
       "species              56\n",
       "island               56\n",
       "bill_length_mm       56\n",
       "bill_depth_mm        56\n",
       "flipper_length_mm    56\n",
       "body_mass_g          56\n",
       "sex                  56\n",
       "year                 56\n",
       "wkilo                56\n",
       "dtype: int64"
      ]
     },
     "execution_count": 19,
     "metadata": {},
     "output_type": "execute_result"
    }
   ],
   "source": [
    "penguins[(penguins['species'] == 'Adelie') & (penguins['island'] == 'Dream')].count()"
   ]
  },
  {
   "cell_type": "markdown",
   "id": "09356e10-fc63-4c90-95ab-5c7124ff7d66",
   "metadata": {},
   "source": [
    "<h2>---Adelie in Torgersen---</h2>"
   ]
  },
  {
   "cell_type": "code",
   "execution_count": 20,
   "id": "56f9eab6-101e-417f-b090-4c2d28fca2e4",
   "metadata": {},
   "outputs": [
    {
     "data": {
      "text/plain": [
       "rowid                52\n",
       "species              52\n",
       "island               52\n",
       "bill_length_mm       52\n",
       "bill_depth_mm        52\n",
       "flipper_length_mm    52\n",
       "body_mass_g          52\n",
       "sex                  52\n",
       "year                 52\n",
       "wkilo                52\n",
       "dtype: int64"
      ]
     },
     "execution_count": 20,
     "metadata": {},
     "output_type": "execute_result"
    }
   ],
   "source": [
    "penguins[(penguins['species'] == 'Adelie') & (penguins['island'] == 'Torgersen')].count()"
   ]
  },
  {
   "cell_type": "code",
   "execution_count": 21,
   "id": "0cdcebe8-b107-4f27-b0c6-6de00f5bfc60",
   "metadata": {},
   "outputs": [],
   "source": [
    "adelie_biscoe = penguins[(penguins['species'] == 'Adelie') & (penguins['island'] == 'Biscoe')]"
   ]
  },
  {
   "cell_type": "code",
   "execution_count": 22,
   "id": "fb375c8c-c106-41ca-8632-318143e37d04",
   "metadata": {},
   "outputs": [],
   "source": [
    "adelie_dream = penguins[(penguins['species'] == 'Adelie') & (penguins['island'] == 'Dream')]"
   ]
  },
  {
   "cell_type": "code",
   "execution_count": 23,
   "id": "6dcf8eb9-ffe6-405d-be6f-1c6106d2bcfe",
   "metadata": {},
   "outputs": [],
   "source": [
    "adelie_torgersen = penguins[(penguins['species'] == 'Adelie') & (penguins['island'] == 'Torgersen')]"
   ]
  },
  {
   "cell_type": "markdown",
   "id": "8cd92d66-d034-450f-86f9-920e4efb89bd",
   "metadata": {},
   "source": [
    "<h1>Insight #1</h1>\n",
    "<h3>No, penguins species does not exclusively on an island</h3>"
   ]
  },
  {
   "cell_type": "markdown",
   "id": "bdf3775e-314b-4d80-8824-559becc241ed",
   "metadata": {},
   "source": [
    "<h2>---Gentoo---</h2>"
   ]
  },
  {
   "cell_type": "markdown",
   "id": "af0b0757-ff23-492e-8b48-f30e6161650f",
   "metadata": {},
   "source": [
    "<h2>---Gentoo in Biscoe---</h2>"
   ]
  },
  {
   "cell_type": "code",
   "execution_count": 24,
   "id": "98865cd2-22a4-41b9-a66f-226a60508514",
   "metadata": {},
   "outputs": [
    {
     "data": {
      "text/plain": [
       "rowid                124\n",
       "species              124\n",
       "island               124\n",
       "bill_length_mm       124\n",
       "bill_depth_mm        124\n",
       "flipper_length_mm    124\n",
       "body_mass_g          124\n",
       "sex                  124\n",
       "year                 124\n",
       "wkilo                124\n",
       "dtype: int64"
      ]
     },
     "execution_count": 24,
     "metadata": {},
     "output_type": "execute_result"
    }
   ],
   "source": [
    "penguins[(penguins['species'] == 'Gentoo') & (penguins['island'] == 'Biscoe')].count()"
   ]
  },
  {
   "cell_type": "markdown",
   "id": "9e252ee7-128d-435f-8c68-18298b7fad94",
   "metadata": {},
   "source": [
    "<h2>---Gentoo in Dream---</h2>"
   ]
  },
  {
   "cell_type": "code",
   "execution_count": 25,
   "id": "e47a40de-2633-4aad-a9cc-3362b6fb2097",
   "metadata": {},
   "outputs": [
    {
     "data": {
      "text/plain": [
       "rowid                0\n",
       "species              0\n",
       "island               0\n",
       "bill_length_mm       0\n",
       "bill_depth_mm        0\n",
       "flipper_length_mm    0\n",
       "body_mass_g          0\n",
       "sex                  0\n",
       "year                 0\n",
       "wkilo                0\n",
       "dtype: int64"
      ]
     },
     "execution_count": 25,
     "metadata": {},
     "output_type": "execute_result"
    }
   ],
   "source": [
    "penguins[(penguins['species'] == 'Gentoo') & (penguins['island'] == 'Dream')].count()"
   ]
  },
  {
   "cell_type": "markdown",
   "id": "36b0af07-a6a1-4580-b2e0-f535b1402790",
   "metadata": {},
   "source": [
    "<h2>---Gentoo in Torgensen---</h2>"
   ]
  },
  {
   "cell_type": "code",
   "execution_count": 26,
   "id": "8071cffc-34e4-452e-9450-93a2751d0541",
   "metadata": {},
   "outputs": [
    {
     "data": {
      "text/plain": [
       "rowid                0\n",
       "species              0\n",
       "island               0\n",
       "bill_length_mm       0\n",
       "bill_depth_mm        0\n",
       "flipper_length_mm    0\n",
       "body_mass_g          0\n",
       "sex                  0\n",
       "year                 0\n",
       "wkilo                0\n",
       "dtype: int64"
      ]
     },
     "execution_count": 26,
     "metadata": {},
     "output_type": "execute_result"
    }
   ],
   "source": [
    "penguins[(penguins['species'] == 'Gentoo') & (penguins['island'] == 'Torgersen')].count()"
   ]
  },
  {
   "cell_type": "code",
   "execution_count": 27,
   "id": "bf9d8eba-20fc-46ce-8a5c-bfff03c47fef",
   "metadata": {},
   "outputs": [],
   "source": [
    "gentoo_biscoe = penguins[(penguins['species'] == 'Gentoo') & (penguins['island'] == 'Biscoe')]"
   ]
  },
  {
   "cell_type": "code",
   "execution_count": 28,
   "id": "0284babc-75ac-4865-a319-c79207b1b104",
   "metadata": {},
   "outputs": [],
   "source": [
    "gentoo_dream = penguins[(penguins['species'] == 'Gentoo') & (penguins['island'] == 'Dream')]"
   ]
  },
  {
   "cell_type": "code",
   "execution_count": 29,
   "id": "d0b3c35a-8681-4678-980d-0ab3c09983eb",
   "metadata": {},
   "outputs": [],
   "source": [
    "gentoo_torgersen = penguins[(penguins['species'] == 'Gentoo') & (penguins['island'] == 'Torgersen')]"
   ]
  },
  {
   "cell_type": "markdown",
   "id": "f18e8a54-886c-429c-95ab-3cb09cc414e7",
   "metadata": {},
   "source": [
    "<h1>Insight #2</h1>\n",
    "<h3>Yes, penguins Gentoo are exclusively on the island of Biscoe</h3>"
   ]
  },
  {
   "cell_type": "markdown",
   "id": "e807f3e3-96c7-42eb-b1f2-964cba4d715a",
   "metadata": {},
   "source": [
    "<h2>---Chinstrap---</h2>"
   ]
  },
  {
   "cell_type": "markdown",
   "id": "fa420cb7-e092-4aab-bcd2-cc413e7edb03",
   "metadata": {},
   "source": [
    "<h2>---Chinstrap in Biscoe---</h2>"
   ]
  },
  {
   "cell_type": "code",
   "execution_count": 30,
   "id": "465c8244-13ba-4297-951f-ac85cf6898cf",
   "metadata": {},
   "outputs": [
    {
     "data": {
      "text/plain": [
       "rowid                0\n",
       "species              0\n",
       "island               0\n",
       "bill_length_mm       0\n",
       "bill_depth_mm        0\n",
       "flipper_length_mm    0\n",
       "body_mass_g          0\n",
       "sex                  0\n",
       "year                 0\n",
       "wkilo                0\n",
       "dtype: int64"
      ]
     },
     "execution_count": 30,
     "metadata": {},
     "output_type": "execute_result"
    }
   ],
   "source": [
    "penguins[(penguins['species'] == 'Chinstrap') & (penguins['island'] == 'Biscoe')].count()"
   ]
  },
  {
   "cell_type": "markdown",
   "id": "ed6e90e2-a477-4fdc-8f82-d8ff2a5facff",
   "metadata": {},
   "source": [
    "<h2>---Chinstrap in Dream---</h2>"
   ]
  },
  {
   "cell_type": "code",
   "execution_count": 31,
   "id": "c4f1c716-af6b-4ec4-b9cc-038b989963e9",
   "metadata": {},
   "outputs": [
    {
     "data": {
      "text/plain": [
       "rowid                68\n",
       "species              68\n",
       "island               68\n",
       "bill_length_mm       68\n",
       "bill_depth_mm        68\n",
       "flipper_length_mm    68\n",
       "body_mass_g          68\n",
       "sex                  68\n",
       "year                 68\n",
       "wkilo                68\n",
       "dtype: int64"
      ]
     },
     "execution_count": 31,
     "metadata": {},
     "output_type": "execute_result"
    }
   ],
   "source": [
    "penguins[(penguins['species'] == 'Chinstrap') & (penguins['island'] == 'Dream')].count()"
   ]
  },
  {
   "cell_type": "markdown",
   "id": "9759bc34-4978-44c6-b490-b51b505f6646",
   "metadata": {},
   "source": [
    "<h2>---Chinstrap in Torgersen---</h2>"
   ]
  },
  {
   "cell_type": "code",
   "execution_count": 32,
   "id": "da50cdbd-bddc-4963-a303-8902a1dc4853",
   "metadata": {},
   "outputs": [
    {
     "data": {
      "text/plain": [
       "rowid                0\n",
       "species              0\n",
       "island               0\n",
       "bill_length_mm       0\n",
       "bill_depth_mm        0\n",
       "flipper_length_mm    0\n",
       "body_mass_g          0\n",
       "sex                  0\n",
       "year                 0\n",
       "wkilo                0\n",
       "dtype: int64"
      ]
     },
     "execution_count": 32,
     "metadata": {},
     "output_type": "execute_result"
    }
   ],
   "source": [
    "penguins[(penguins['species'] == 'Chinstrap') & (penguins['island'] == 'Torgersen')].count()"
   ]
  },
  {
   "cell_type": "code",
   "execution_count": 33,
   "id": "63063d75-cd8c-4d0b-96ca-4b7c073227e5",
   "metadata": {},
   "outputs": [],
   "source": [
    "chinstrap_biscoe = penguins[(penguins['species'] == 'Chinstrap') & (penguins['island'] == 'Biscoe')]"
   ]
  },
  {
   "cell_type": "code",
   "execution_count": 34,
   "id": "1dbb57e2-0d27-4c92-8ca9-59640868aae3",
   "metadata": {},
   "outputs": [],
   "source": [
    "chinstrap_dream = penguins[(penguins['species'] == 'Chinstrap') & (penguins['island'] == 'Dream')]"
   ]
  },
  {
   "cell_type": "code",
   "execution_count": 35,
   "id": "5ff4a34d-6abf-442b-8f5a-dd569ae7b720",
   "metadata": {},
   "outputs": [],
   "source": [
    "chinstrap_torgersen = penguins[(penguins['species'] == 'Chinstrap') & (penguins['island'] == 'Torgersen')]"
   ]
  },
  {
   "cell_type": "markdown",
   "id": "bbd9d777-ca1a-4ccc-914b-6334d01ac7e0",
   "metadata": {},
   "source": [
    "<h1>Insight #3</h1>\n",
    "<h3>Yes, penguins Chinstrap are exclusively on the island of Dream</h3>"
   ]
  },
  {
   "cell_type": "markdown",
   "id": "b50e0581-c182-4d05-a803-3a263e0ac164",
   "metadata": {},
   "source": [
    "<h1>#4 Does the Island affect the body mass of a penguins species</h1>"
   ]
  },
  {
   "cell_type": "markdown",
   "id": "8279b7cc-9a11-44b0-9049-3fb6a1130c76",
   "metadata": {},
   "source": [
    "<h2>---Adelie---</h2>"
   ]
  },
  {
   "cell_type": "code",
   "execution_count": 36,
   "id": "4b73bd63-c477-41c4-9f87-eb06c906335a",
   "metadata": {},
   "outputs": [
    {
     "data": {
      "text/plain": [
       "np.float64(3.715909090909091)"
      ]
     },
     "execution_count": 36,
     "metadata": {},
     "output_type": "execute_result"
    }
   ],
   "source": [
    "adelie_biscoe['wkilo'].mean()"
   ]
  },
  {
   "cell_type": "code",
   "execution_count": 37,
   "id": "3a243f5e-cf31-4330-956d-c37372dd3794",
   "metadata": {},
   "outputs": [
    {
     "data": {
      "text/plain": [
       "np.float64(3.7)"
      ]
     },
     "execution_count": 37,
     "metadata": {},
     "output_type": "execute_result"
    }
   ],
   "source": [
    "np.round(adelie_biscoe['wkilo'].mean(), 1)"
   ]
  },
  {
   "cell_type": "code",
   "execution_count": 38,
   "id": "d13720f1-c522-4cec-be3a-448fe51a131f",
   "metadata": {},
   "outputs": [
    {
     "data": {
      "text/plain": [
       "np.float64(3.6910714285714286)"
      ]
     },
     "execution_count": 38,
     "metadata": {},
     "output_type": "execute_result"
    }
   ],
   "source": [
    "adelie_dream['wkilo'].mean()"
   ]
  },
  {
   "cell_type": "code",
   "execution_count": 39,
   "id": "38cea366-1e8c-46de-807c-b259f3e63dfc",
   "metadata": {},
   "outputs": [
    {
     "data": {
      "text/plain": [
       "np.float64(3.7)"
      ]
     },
     "execution_count": 39,
     "metadata": {},
     "output_type": "execute_result"
    }
   ],
   "source": [
    "np.round(adelie_dream['wkilo'].mean(), 1)"
   ]
  },
  {
   "cell_type": "code",
   "execution_count": 40,
   "id": "fea15e81-ba6a-4b17-8765-b5b7b58f6794",
   "metadata": {},
   "outputs": [
    {
     "data": {
      "text/plain": [
       "np.float64(3.7115384615384617)"
      ]
     },
     "execution_count": 40,
     "metadata": {},
     "output_type": "execute_result"
    }
   ],
   "source": [
    "adelie_torgersen['wkilo'].mean()"
   ]
  },
  {
   "cell_type": "code",
   "execution_count": 41,
   "id": "a29a13e5-0581-4c63-a9cb-9ed04ba7666d",
   "metadata": {},
   "outputs": [
    {
     "data": {
      "text/plain": [
       "np.float64(3.7)"
      ]
     },
     "execution_count": 41,
     "metadata": {},
     "output_type": "execute_result"
    }
   ],
   "source": [
    "np.round(adelie_torgersen['wkilo'].mean(), 1)"
   ]
  },
  {
   "cell_type": "markdown",
   "id": "f9293b8f-833a-4391-bcf6-f932e374c4fc",
   "metadata": {},
   "source": [
    "<h1>Insight #4</h1>\n",
    "<h3>The Adelie Species has an average weight of 3.7 kilo regardless of the island location where they live</h3>"
   ]
  },
  {
   "cell_type": "markdown",
   "id": "86ebde47-387e-440f-ade9-0ce3365e2c85",
   "metadata": {},
   "source": [
    "<h2>---Gentoo---</h2>"
   ]
  },
  {
   "cell_type": "code",
   "execution_count": 42,
   "id": "41244e49-ab5a-4bff-a0ee-c851d19eb2ea",
   "metadata": {},
   "outputs": [
    {
     "data": {
      "text/plain": [
       "np.float64(5.069354838709677)"
      ]
     },
     "execution_count": 42,
     "metadata": {},
     "output_type": "execute_result"
    }
   ],
   "source": [
    "gentoo_biscoe['wkilo'].mean()"
   ]
  },
  {
   "cell_type": "code",
   "execution_count": 43,
   "id": "f051d56f-8a38-408e-8d9f-545e9faca1f6",
   "metadata": {},
   "outputs": [
    {
     "data": {
      "text/plain": [
       "np.float64(5.1)"
      ]
     },
     "execution_count": 43,
     "metadata": {},
     "output_type": "execute_result"
    }
   ],
   "source": [
    "np.round(gentoo_biscoe['wkilo'].mean(), 1)"
   ]
  },
  {
   "cell_type": "code",
   "execution_count": 44,
   "id": "b671f370-808c-493c-b3b4-d978a69f14d3",
   "metadata": {},
   "outputs": [
    {
     "data": {
      "text/plain": [
       "nan"
      ]
     },
     "execution_count": 44,
     "metadata": {},
     "output_type": "execute_result"
    }
   ],
   "source": [
    "gentoo_dream['wkilo'].mean()"
   ]
  },
  {
   "cell_type": "code",
   "execution_count": 45,
   "id": "e97e3c81-9ce6-4466-a63b-20d259aa52d1",
   "metadata": {},
   "outputs": [
    {
     "data": {
      "text/plain": [
       "np.float64(nan)"
      ]
     },
     "execution_count": 45,
     "metadata": {},
     "output_type": "execute_result"
    }
   ],
   "source": [
    "np.round(gentoo_dream['wkilo'].mean(), 1)"
   ]
  },
  {
   "cell_type": "code",
   "execution_count": 46,
   "id": "2888bea4-a2ca-45af-9a96-60a5d579edf6",
   "metadata": {},
   "outputs": [
    {
     "data": {
      "text/plain": [
       "nan"
      ]
     },
     "execution_count": 46,
     "metadata": {},
     "output_type": "execute_result"
    }
   ],
   "source": [
    "gentoo_torgersen['wkilo'].mean()"
   ]
  },
  {
   "cell_type": "code",
   "execution_count": 47,
   "id": "6a99abd0-fc6c-412e-ad14-53ed7b1f6626",
   "metadata": {},
   "outputs": [
    {
     "data": {
      "text/plain": [
       "np.float64(nan)"
      ]
     },
     "execution_count": 47,
     "metadata": {},
     "output_type": "execute_result"
    }
   ],
   "source": [
    "np.round(gentoo_torgersen['wkilo'].mean(), 1)"
   ]
  },
  {
   "cell_type": "markdown",
   "id": "ff4951ee-2d81-47ee-8019-a5306fa50454",
   "metadata": {},
   "source": [
    "<h1>Insight #5</h1>\n",
    "<h3>The Gentoo Species has an average of 5.1 kilo in Biscoe Island</h3>"
   ]
  },
  {
   "cell_type": "markdown",
   "id": "48a8e151-0a64-40a2-abc0-dab8d4cbc0e0",
   "metadata": {},
   "source": [
    "<h2>---Chinstrap---</h2>"
   ]
  },
  {
   "cell_type": "code",
   "execution_count": 48,
   "id": "f2dd2698-156b-4308-9d35-92c2070514b9",
   "metadata": {},
   "outputs": [
    {
     "data": {
      "text/plain": [
       "nan"
      ]
     },
     "execution_count": 48,
     "metadata": {},
     "output_type": "execute_result"
    }
   ],
   "source": [
    "chinstrap_biscoe['wkilo'].mean()"
   ]
  },
  {
   "cell_type": "code",
   "execution_count": 49,
   "id": "902b3a76-440d-4212-8f26-6098d43ee368",
   "metadata": {},
   "outputs": [
    {
     "data": {
      "text/plain": [
       "np.float64(nan)"
      ]
     },
     "execution_count": 49,
     "metadata": {},
     "output_type": "execute_result"
    }
   ],
   "source": [
    "np.round(chinstrap_biscoe['wkilo'].mean(), 1)"
   ]
  },
  {
   "cell_type": "code",
   "execution_count": 50,
   "id": "6be82926-bece-46a6-931f-3d3d33c17d75",
   "metadata": {},
   "outputs": [
    {
     "data": {
      "text/plain": [
       "np.float64(3.730882352941177)"
      ]
     },
     "execution_count": 50,
     "metadata": {},
     "output_type": "execute_result"
    }
   ],
   "source": [
    "chinstrap_dream['wkilo'].mean()"
   ]
  },
  {
   "cell_type": "code",
   "execution_count": 51,
   "id": "efe2307e-09ea-427a-9e19-f3b83ae38b6c",
   "metadata": {},
   "outputs": [
    {
     "data": {
      "text/plain": [
       "np.float64(3.7)"
      ]
     },
     "execution_count": 51,
     "metadata": {},
     "output_type": "execute_result"
    }
   ],
   "source": [
    "np.round(chinstrap_dream['wkilo'].mean(), 1)"
   ]
  },
  {
   "cell_type": "code",
   "execution_count": 52,
   "id": "92b8dcfd-b3f1-4bd9-a87b-a7cd7dceb6cd",
   "metadata": {},
   "outputs": [
    {
     "data": {
      "text/plain": [
       "nan"
      ]
     },
     "execution_count": 52,
     "metadata": {},
     "output_type": "execute_result"
    }
   ],
   "source": [
    "chinstrap_torgersen['wkilo'].mean()"
   ]
  },
  {
   "cell_type": "code",
   "execution_count": 53,
   "id": "af5ad569-f859-4392-b471-5c0059bfc111",
   "metadata": {},
   "outputs": [
    {
     "data": {
      "text/plain": [
       "np.float64(nan)"
      ]
     },
     "execution_count": 53,
     "metadata": {},
     "output_type": "execute_result"
    }
   ],
   "source": [
    "np.round(chinstrap_torgersen['wkilo'].mean(), 1)"
   ]
  },
  {
   "cell_type": "markdown",
   "id": "c2eb899b-3677-4779-b45c-b173fe392512",
   "metadata": {},
   "source": [
    "<h1>Insight #6</h1>\n",
    "<h3>The Chinstrap Species has an average of 3.7 kilo in Dream Island</h3>"
   ]
  },
  {
   "cell_type": "markdown",
   "id": "3ef6e8cd-db5c-4971-bdd3-3cf671ef7f00",
   "metadata": {},
   "source": [
    "<h3>HOW TO USE .groupby</h3>\n",
    "<ul>\n",
    "    <li>Variable Name</li>\n",
    "    <li>Call the Dataframe</li>\n",
    "    <li>Use the .groupby() function to start the aggregation</li>\n",
    "    <li>Select from the available function</li>\n",
    "</ul>"
   ]
  },
  {
   "cell_type": "markdown",
   "id": "9db1f14e-aa7a-452f-ba6a-2905305ca13e",
   "metadata": {},
   "source": [
    "<h1>#7 Who is the heaviest species</h1>"
   ]
  },
  {
   "cell_type": "markdown",
   "id": "6f001945-cd5b-48be-8009-1340bb92c9ce",
   "metadata": {},
   "source": [
    "<h1>Insight #7</h1>\n",
    "<h3>The heaviest species is Gentoo that have 5.1 kilo</h3>"
   ]
  },
  {
   "cell_type": "markdown",
   "id": "9924aa56-855b-4c69-a8fb-847d18b310bf",
   "metadata": {},
   "source": [
    "<h1>#8 What year has the most recorded data for male, species Adelie?</h1>"
   ]
  },
  {
   "cell_type": "code",
   "execution_count": 54,
   "id": "94c0a414-be44-4843-a422-37e872a16d32",
   "metadata": {},
   "outputs": [
    {
     "name": "stderr",
     "output_type": "stream",
     "text": [
      "C:\\Users\\LAB4-StudentPC32\\AppData\\Local\\Temp\\ipykernel_8576\\3588189813.py:1: FutureWarning: The default of observed=False is deprecated and will be changed to True in a future version of pandas. Pass observed=False to retain current behavior or observed=True to adopt the future default and silence this warning.\n",
      "  penguin = penguins.groupby([\"species\", \"sex\", \"year\"]).count()\n"
     ]
    },
    {
     "data": {
      "text/html": [
       "<div>\n",
       "<style scoped>\n",
       "    .dataframe tbody tr th:only-of-type {\n",
       "        vertical-align: middle;\n",
       "    }\n",
       "\n",
       "    .dataframe tbody tr th {\n",
       "        vertical-align: top;\n",
       "    }\n",
       "\n",
       "    .dataframe thead th {\n",
       "        text-align: right;\n",
       "    }\n",
       "</style>\n",
       "<table border=\"1\" class=\"dataframe\">\n",
       "  <thead>\n",
       "    <tr style=\"text-align: right;\">\n",
       "      <th></th>\n",
       "      <th></th>\n",
       "      <th></th>\n",
       "      <th>rowid</th>\n",
       "      <th>island</th>\n",
       "      <th>bill_length_mm</th>\n",
       "      <th>bill_depth_mm</th>\n",
       "      <th>flipper_length_mm</th>\n",
       "      <th>body_mass_g</th>\n",
       "      <th>wkilo</th>\n",
       "    </tr>\n",
       "    <tr>\n",
       "      <th>species</th>\n",
       "      <th>sex</th>\n",
       "      <th>year</th>\n",
       "      <th></th>\n",
       "      <th></th>\n",
       "      <th></th>\n",
       "      <th></th>\n",
       "      <th></th>\n",
       "      <th></th>\n",
       "      <th></th>\n",
       "    </tr>\n",
       "  </thead>\n",
       "  <tbody>\n",
       "    <tr>\n",
       "      <th rowspan=\"6\" valign=\"top\">Adelie</th>\n",
       "      <th rowspan=\"3\" valign=\"top\">female</th>\n",
       "      <th>2007</th>\n",
       "      <td>22</td>\n",
       "      <td>22</td>\n",
       "      <td>22</td>\n",
       "      <td>22</td>\n",
       "      <td>22</td>\n",
       "      <td>22</td>\n",
       "      <td>22</td>\n",
       "    </tr>\n",
       "    <tr>\n",
       "      <th>2008</th>\n",
       "      <td>25</td>\n",
       "      <td>25</td>\n",
       "      <td>25</td>\n",
       "      <td>25</td>\n",
       "      <td>25</td>\n",
       "      <td>25</td>\n",
       "      <td>25</td>\n",
       "    </tr>\n",
       "    <tr>\n",
       "      <th>2009</th>\n",
       "      <td>26</td>\n",
       "      <td>26</td>\n",
       "      <td>26</td>\n",
       "      <td>26</td>\n",
       "      <td>26</td>\n",
       "      <td>26</td>\n",
       "      <td>26</td>\n",
       "    </tr>\n",
       "    <tr>\n",
       "      <th rowspan=\"3\" valign=\"top\">male</th>\n",
       "      <th>2007</th>\n",
       "      <td>28</td>\n",
       "      <td>28</td>\n",
       "      <td>28</td>\n",
       "      <td>28</td>\n",
       "      <td>28</td>\n",
       "      <td>28</td>\n",
       "      <td>28</td>\n",
       "    </tr>\n",
       "    <tr>\n",
       "      <th>2008</th>\n",
       "      <td>25</td>\n",
       "      <td>25</td>\n",
       "      <td>25</td>\n",
       "      <td>25</td>\n",
       "      <td>25</td>\n",
       "      <td>25</td>\n",
       "      <td>25</td>\n",
       "    </tr>\n",
       "    <tr>\n",
       "      <th>2009</th>\n",
       "      <td>26</td>\n",
       "      <td>26</td>\n",
       "      <td>26</td>\n",
       "      <td>26</td>\n",
       "      <td>26</td>\n",
       "      <td>26</td>\n",
       "      <td>26</td>\n",
       "    </tr>\n",
       "    <tr>\n",
       "      <th rowspan=\"6\" valign=\"top\">Chinstrap</th>\n",
       "      <th rowspan=\"3\" valign=\"top\">female</th>\n",
       "      <th>2007</th>\n",
       "      <td>13</td>\n",
       "      <td>13</td>\n",
       "      <td>13</td>\n",
       "      <td>13</td>\n",
       "      <td>13</td>\n",
       "      <td>13</td>\n",
       "      <td>13</td>\n",
       "    </tr>\n",
       "    <tr>\n",
       "      <th>2008</th>\n",
       "      <td>9</td>\n",
       "      <td>9</td>\n",
       "      <td>9</td>\n",
       "      <td>9</td>\n",
       "      <td>9</td>\n",
       "      <td>9</td>\n",
       "      <td>9</td>\n",
       "    </tr>\n",
       "    <tr>\n",
       "      <th>2009</th>\n",
       "      <td>12</td>\n",
       "      <td>12</td>\n",
       "      <td>12</td>\n",
       "      <td>12</td>\n",
       "      <td>12</td>\n",
       "      <td>12</td>\n",
       "      <td>12</td>\n",
       "    </tr>\n",
       "    <tr>\n",
       "      <th rowspan=\"3\" valign=\"top\">male</th>\n",
       "      <th>2007</th>\n",
       "      <td>13</td>\n",
       "      <td>13</td>\n",
       "      <td>13</td>\n",
       "      <td>13</td>\n",
       "      <td>13</td>\n",
       "      <td>13</td>\n",
       "      <td>13</td>\n",
       "    </tr>\n",
       "    <tr>\n",
       "      <th>2008</th>\n",
       "      <td>9</td>\n",
       "      <td>9</td>\n",
       "      <td>9</td>\n",
       "      <td>9</td>\n",
       "      <td>9</td>\n",
       "      <td>9</td>\n",
       "      <td>9</td>\n",
       "    </tr>\n",
       "    <tr>\n",
       "      <th>2009</th>\n",
       "      <td>12</td>\n",
       "      <td>12</td>\n",
       "      <td>12</td>\n",
       "      <td>12</td>\n",
       "      <td>12</td>\n",
       "      <td>12</td>\n",
       "      <td>12</td>\n",
       "    </tr>\n",
       "    <tr>\n",
       "      <th rowspan=\"6\" valign=\"top\">Gentoo</th>\n",
       "      <th rowspan=\"3\" valign=\"top\">female</th>\n",
       "      <th>2007</th>\n",
       "      <td>16</td>\n",
       "      <td>16</td>\n",
       "      <td>16</td>\n",
       "      <td>16</td>\n",
       "      <td>16</td>\n",
       "      <td>16</td>\n",
       "      <td>16</td>\n",
       "    </tr>\n",
       "    <tr>\n",
       "      <th>2008</th>\n",
       "      <td>22</td>\n",
       "      <td>22</td>\n",
       "      <td>22</td>\n",
       "      <td>22</td>\n",
       "      <td>22</td>\n",
       "      <td>22</td>\n",
       "      <td>22</td>\n",
       "    </tr>\n",
       "    <tr>\n",
       "      <th>2009</th>\n",
       "      <td>20</td>\n",
       "      <td>20</td>\n",
       "      <td>20</td>\n",
       "      <td>20</td>\n",
       "      <td>20</td>\n",
       "      <td>20</td>\n",
       "      <td>20</td>\n",
       "    </tr>\n",
       "    <tr>\n",
       "      <th rowspan=\"3\" valign=\"top\">male</th>\n",
       "      <th>2007</th>\n",
       "      <td>18</td>\n",
       "      <td>18</td>\n",
       "      <td>18</td>\n",
       "      <td>18</td>\n",
       "      <td>18</td>\n",
       "      <td>18</td>\n",
       "      <td>18</td>\n",
       "    </tr>\n",
       "    <tr>\n",
       "      <th>2008</th>\n",
       "      <td>24</td>\n",
       "      <td>24</td>\n",
       "      <td>24</td>\n",
       "      <td>24</td>\n",
       "      <td>24</td>\n",
       "      <td>24</td>\n",
       "      <td>24</td>\n",
       "    </tr>\n",
       "    <tr>\n",
       "      <th>2009</th>\n",
       "      <td>24</td>\n",
       "      <td>24</td>\n",
       "      <td>24</td>\n",
       "      <td>24</td>\n",
       "      <td>24</td>\n",
       "      <td>24</td>\n",
       "      <td>24</td>\n",
       "    </tr>\n",
       "  </tbody>\n",
       "</table>\n",
       "</div>"
      ],
      "text/plain": [
       "                       rowid  island  bill_length_mm  bill_depth_mm  \\\n",
       "species   sex    year                                                 \n",
       "Adelie    female 2007     22      22              22             22   \n",
       "                 2008     25      25              25             25   \n",
       "                 2009     26      26              26             26   \n",
       "          male   2007     28      28              28             28   \n",
       "                 2008     25      25              25             25   \n",
       "                 2009     26      26              26             26   \n",
       "Chinstrap female 2007     13      13              13             13   \n",
       "                 2008      9       9               9              9   \n",
       "                 2009     12      12              12             12   \n",
       "          male   2007     13      13              13             13   \n",
       "                 2008      9       9               9              9   \n",
       "                 2009     12      12              12             12   \n",
       "Gentoo    female 2007     16      16              16             16   \n",
       "                 2008     22      22              22             22   \n",
       "                 2009     20      20              20             20   \n",
       "          male   2007     18      18              18             18   \n",
       "                 2008     24      24              24             24   \n",
       "                 2009     24      24              24             24   \n",
       "\n",
       "                       flipper_length_mm  body_mass_g  wkilo  \n",
       "species   sex    year                                         \n",
       "Adelie    female 2007                 22           22     22  \n",
       "                 2008                 25           25     25  \n",
       "                 2009                 26           26     26  \n",
       "          male   2007                 28           28     28  \n",
       "                 2008                 25           25     25  \n",
       "                 2009                 26           26     26  \n",
       "Chinstrap female 2007                 13           13     13  \n",
       "                 2008                  9            9      9  \n",
       "                 2009                 12           12     12  \n",
       "          male   2007                 13           13     13  \n",
       "                 2008                  9            9      9  \n",
       "                 2009                 12           12     12  \n",
       "Gentoo    female 2007                 16           16     16  \n",
       "                 2008                 22           22     22  \n",
       "                 2009                 20           20     20  \n",
       "          male   2007                 18           18     18  \n",
       "                 2008                 24           24     24  \n",
       "                 2009                 24           24     24  "
      ]
     },
     "execution_count": 54,
     "metadata": {},
     "output_type": "execute_result"
    }
   ],
   "source": [
    "penguin = penguins.groupby([\"species\", \"sex\", \"year\"]).count()\n",
    "penguin"
   ]
  },
  {
   "cell_type": "code",
   "execution_count": 55,
   "id": "70b006dd-50be-4051-baf7-eeb301777a89",
   "metadata": {},
   "outputs": [
    {
     "name": "stderr",
     "output_type": "stream",
     "text": [
      "C:\\Users\\LAB4-StudentPC32\\AppData\\Local\\Temp\\ipykernel_8576\\4209612863.py:1: FutureWarning: The default of observed=False is deprecated and will be changed to True in a future version of pandas. Pass observed=False to retain current behavior or observed=True to adopt the future default and silence this warning.\n",
      "  penguin = penguins.groupby([\"species\", \"sex\", \"year\"]).size()\n"
     ]
    },
    {
     "data": {
      "text/plain": [
       "species    sex     year\n",
       "Adelie     female  2007    22\n",
       "                   2008    25\n",
       "                   2009    26\n",
       "           male    2007    28\n",
       "                   2008    25\n",
       "                   2009    26\n",
       "Chinstrap  female  2007    13\n",
       "                   2008     9\n",
       "                   2009    12\n",
       "           male    2007    13\n",
       "                   2008     9\n",
       "                   2009    12\n",
       "Gentoo     female  2007    16\n",
       "                   2008    22\n",
       "                   2009    20\n",
       "           male    2007    18\n",
       "                   2008    24\n",
       "                   2009    24\n",
       "dtype: int64"
      ]
     },
     "execution_count": 55,
     "metadata": {},
     "output_type": "execute_result"
    }
   ],
   "source": [
    "penguin = penguins.groupby([\"species\", \"sex\", \"year\"]).size()\n",
    "penguin"
   ]
  },
  {
   "cell_type": "code",
   "execution_count": 56,
   "id": "68ce9fdc-922b-4de4-b88b-4ffda9c3d837",
   "metadata": {},
   "outputs": [
    {
     "data": {
      "text/html": [
       "<div>\n",
       "<style scoped>\n",
       "    .dataframe tbody tr th:only-of-type {\n",
       "        vertical-align: middle;\n",
       "    }\n",
       "\n",
       "    .dataframe tbody tr th {\n",
       "        vertical-align: top;\n",
       "    }\n",
       "\n",
       "    .dataframe thead th {\n",
       "        text-align: right;\n",
       "    }\n",
       "</style>\n",
       "<table border=\"1\" class=\"dataframe\">\n",
       "  <thead>\n",
       "    <tr style=\"text-align: right;\">\n",
       "      <th></th>\n",
       "      <th>year</th>\n",
       "      <th>2007</th>\n",
       "      <th>2008</th>\n",
       "      <th>2009</th>\n",
       "    </tr>\n",
       "    <tr>\n",
       "      <th>species</th>\n",
       "      <th>sex</th>\n",
       "      <th></th>\n",
       "      <th></th>\n",
       "      <th></th>\n",
       "    </tr>\n",
       "  </thead>\n",
       "  <tbody>\n",
       "    <tr>\n",
       "      <th rowspan=\"2\" valign=\"top\">Adelie</th>\n",
       "      <th>female</th>\n",
       "      <td>22</td>\n",
       "      <td>25</td>\n",
       "      <td>26</td>\n",
       "    </tr>\n",
       "    <tr>\n",
       "      <th>male</th>\n",
       "      <td>28</td>\n",
       "      <td>25</td>\n",
       "      <td>26</td>\n",
       "    </tr>\n",
       "    <tr>\n",
       "      <th rowspan=\"2\" valign=\"top\">Chinstrap</th>\n",
       "      <th>female</th>\n",
       "      <td>13</td>\n",
       "      <td>9</td>\n",
       "      <td>12</td>\n",
       "    </tr>\n",
       "    <tr>\n",
       "      <th>male</th>\n",
       "      <td>13</td>\n",
       "      <td>9</td>\n",
       "      <td>12</td>\n",
       "    </tr>\n",
       "    <tr>\n",
       "      <th rowspan=\"2\" valign=\"top\">Gentoo</th>\n",
       "      <th>female</th>\n",
       "      <td>16</td>\n",
       "      <td>22</td>\n",
       "      <td>20</td>\n",
       "    </tr>\n",
       "    <tr>\n",
       "      <th>male</th>\n",
       "      <td>18</td>\n",
       "      <td>24</td>\n",
       "      <td>24</td>\n",
       "    </tr>\n",
       "  </tbody>\n",
       "</table>\n",
       "</div>"
      ],
      "text/plain": [
       "year              2007  2008  2009\n",
       "species   sex                     \n",
       "Adelie    female    22    25    26\n",
       "          male      28    25    26\n",
       "Chinstrap female    13     9    12\n",
       "          male      13     9    12\n",
       "Gentoo    female    16    22    20\n",
       "          male      18    24    24"
      ]
     },
     "execution_count": 56,
     "metadata": {},
     "output_type": "execute_result"
    }
   ],
   "source": [
    "penguin.unstack()"
   ]
  },
  {
   "cell_type": "markdown",
   "id": "aa194b72-b68a-48ca-b7e9-2129222cca7c",
   "metadata": {},
   "source": [
    "<h1>Insight #8</h1>\n",
    "<h3>The year 2007 has the most recorded data for male in species Adelie</h3>"
   ]
  },
  {
   "cell_type": "markdown",
   "id": "0befd57c-8e6e-400d-ad7f-65c7bffe0783",
   "metadata": {},
   "source": [
    "<h1>#9 Which is the heaviest between penguins species in terms of Sex</h1>"
   ]
  },
  {
   "cell_type": "code",
   "execution_count": 57,
   "id": "a0766805-f77d-4cad-912a-a8fe3e0d5106",
   "metadata": {},
   "outputs": [
    {
     "name": "stderr",
     "output_type": "stream",
     "text": [
      "C:\\Users\\LAB4-StudentPC32\\AppData\\Local\\Temp\\ipykernel_8576\\1663874216.py:1: FutureWarning: The default of observed=False is deprecated and will be changed to True in a future version of pandas. Pass observed=False to retain current behavior or observed=True to adopt the future default and silence this warning.\n",
      "  weight_sex = np.round(penguins.groupby([\"species\", \"sex\"])[\"wkilo\"].mean(), 1)\n"
     ]
    },
    {
     "data": {
      "text/plain": [
       "species    sex   \n",
       "Adelie     female    3.4\n",
       "           male      4.0\n",
       "Chinstrap  female    3.5\n",
       "           male      3.9\n",
       "Gentoo     female    4.7\n",
       "           male      5.4\n",
       "Name: wkilo, dtype: float64"
      ]
     },
     "execution_count": 57,
     "metadata": {},
     "output_type": "execute_result"
    }
   ],
   "source": [
    "weight_sex = np.round(penguins.groupby([\"species\", \"sex\"])[\"wkilo\"].mean(), 1)\n",
    "weight_sex"
   ]
  },
  {
   "cell_type": "code",
   "execution_count": 58,
   "id": "aea4d42c-c2d0-41ff-a504-34ee2271491f",
   "metadata": {},
   "outputs": [
    {
     "data": {
      "text/html": [
       "<div>\n",
       "<style scoped>\n",
       "    .dataframe tbody tr th:only-of-type {\n",
       "        vertical-align: middle;\n",
       "    }\n",
       "\n",
       "    .dataframe tbody tr th {\n",
       "        vertical-align: top;\n",
       "    }\n",
       "\n",
       "    .dataframe thead th {\n",
       "        text-align: right;\n",
       "    }\n",
       "</style>\n",
       "<table border=\"1\" class=\"dataframe\">\n",
       "  <thead>\n",
       "    <tr style=\"text-align: right;\">\n",
       "      <th>sex</th>\n",
       "      <th>female</th>\n",
       "      <th>male</th>\n",
       "    </tr>\n",
       "    <tr>\n",
       "      <th>species</th>\n",
       "      <th></th>\n",
       "      <th></th>\n",
       "    </tr>\n",
       "  </thead>\n",
       "  <tbody>\n",
       "    <tr>\n",
       "      <th>Adelie</th>\n",
       "      <td>3.4</td>\n",
       "      <td>4.0</td>\n",
       "    </tr>\n",
       "    <tr>\n",
       "      <th>Chinstrap</th>\n",
       "      <td>3.5</td>\n",
       "      <td>3.9</td>\n",
       "    </tr>\n",
       "    <tr>\n",
       "      <th>Gentoo</th>\n",
       "      <td>4.7</td>\n",
       "      <td>5.4</td>\n",
       "    </tr>\n",
       "  </tbody>\n",
       "</table>\n",
       "</div>"
      ],
      "text/plain": [
       "sex        female  male\n",
       "species                \n",
       "Adelie        3.4   4.0\n",
       "Chinstrap     3.5   3.9\n",
       "Gentoo        4.7   5.4"
      ]
     },
     "execution_count": 58,
     "metadata": {},
     "output_type": "execute_result"
    }
   ],
   "source": [
    "weight_sex.unstack()"
   ]
  },
  {
   "cell_type": "markdown",
   "id": "90f6a2ac-aa13-4791-9968-92bdf5fabd31",
   "metadata": {},
   "source": [
    "<h1>Insight #9</h1>\n",
    "<h3>Male penguins have the heaviest species</h3>"
   ]
  },
  {
   "cell_type": "markdown",
   "id": "79d44bb1-c702-4de4-b401-8da9f19c8aec",
   "metadata": {},
   "source": [
    "<h1>#10 What year has the highest recorded weight for male and female</h1>"
   ]
  },
  {
   "cell_type": "code",
   "execution_count": 59,
   "id": "52c0a898-bf04-47ec-a007-d60b0eff1ac6",
   "metadata": {},
   "outputs": [
    {
     "name": "stderr",
     "output_type": "stream",
     "text": [
      "C:\\Users\\LAB4-StudentPC32\\AppData\\Local\\Temp\\ipykernel_8576\\393264314.py:1: FutureWarning: The default of observed=False is deprecated and will be changed to True in a future version of pandas. Pass observed=False to retain current behavior or observed=True to adopt the future default and silence this warning.\n",
      "  weight_year = np.round(penguins.groupby([\"species\", \"sex\", \"year\"])[\"wkilo\"].mean(), 1)\n"
     ]
    },
    {
     "data": {
      "text/plain": [
       "species    sex     year\n",
       "Adelie     female  2007    3.4\n",
       "                   2008    3.4\n",
       "                   2009    3.3\n",
       "           male    2007    4.0\n",
       "                   2008    4.1\n",
       "                   2009    4.0\n",
       "Chinstrap  female  2007    3.6\n",
       "                   2008    3.5\n",
       "                   2009    3.5\n",
       "           male    2007    3.8\n",
       "                   2008    4.1\n",
       "                   2009    3.9\n",
       "Gentoo     female  2007    4.6\n",
       "                   2008    4.6\n",
       "                   2009    4.8\n",
       "           male    2007    5.5\n",
       "                   2008    5.4\n",
       "                   2009    5.4\n",
       "Name: wkilo, dtype: float64"
      ]
     },
     "execution_count": 59,
     "metadata": {},
     "output_type": "execute_result"
    }
   ],
   "source": [
    "weight_year = np.round(penguins.groupby([\"species\", \"sex\", \"year\"])[\"wkilo\"].mean(), 1)\n",
    "weight_year"
   ]
  },
  {
   "cell_type": "code",
   "execution_count": 60,
   "id": "e2861874-36ec-4f48-b532-18dd7d613541",
   "metadata": {},
   "outputs": [
    {
     "data": {
      "text/html": [
       "<div>\n",
       "<style scoped>\n",
       "    .dataframe tbody tr th:only-of-type {\n",
       "        vertical-align: middle;\n",
       "    }\n",
       "\n",
       "    .dataframe tbody tr th {\n",
       "        vertical-align: top;\n",
       "    }\n",
       "\n",
       "    .dataframe thead th {\n",
       "        text-align: right;\n",
       "    }\n",
       "</style>\n",
       "<table border=\"1\" class=\"dataframe\">\n",
       "  <thead>\n",
       "    <tr style=\"text-align: right;\">\n",
       "      <th></th>\n",
       "      <th>year</th>\n",
       "      <th>2007</th>\n",
       "      <th>2008</th>\n",
       "      <th>2009</th>\n",
       "    </tr>\n",
       "    <tr>\n",
       "      <th>species</th>\n",
       "      <th>sex</th>\n",
       "      <th></th>\n",
       "      <th></th>\n",
       "      <th></th>\n",
       "    </tr>\n",
       "  </thead>\n",
       "  <tbody>\n",
       "    <tr>\n",
       "      <th rowspan=\"2\" valign=\"top\">Adelie</th>\n",
       "      <th>female</th>\n",
       "      <td>3.4</td>\n",
       "      <td>3.4</td>\n",
       "      <td>3.3</td>\n",
       "    </tr>\n",
       "    <tr>\n",
       "      <th>male</th>\n",
       "      <td>4.0</td>\n",
       "      <td>4.1</td>\n",
       "      <td>4.0</td>\n",
       "    </tr>\n",
       "    <tr>\n",
       "      <th rowspan=\"2\" valign=\"top\">Chinstrap</th>\n",
       "      <th>female</th>\n",
       "      <td>3.6</td>\n",
       "      <td>3.5</td>\n",
       "      <td>3.5</td>\n",
       "    </tr>\n",
       "    <tr>\n",
       "      <th>male</th>\n",
       "      <td>3.8</td>\n",
       "      <td>4.1</td>\n",
       "      <td>3.9</td>\n",
       "    </tr>\n",
       "    <tr>\n",
       "      <th rowspan=\"2\" valign=\"top\">Gentoo</th>\n",
       "      <th>female</th>\n",
       "      <td>4.6</td>\n",
       "      <td>4.6</td>\n",
       "      <td>4.8</td>\n",
       "    </tr>\n",
       "    <tr>\n",
       "      <th>male</th>\n",
       "      <td>5.5</td>\n",
       "      <td>5.4</td>\n",
       "      <td>5.4</td>\n",
       "    </tr>\n",
       "  </tbody>\n",
       "</table>\n",
       "</div>"
      ],
      "text/plain": [
       "year              2007  2008  2009\n",
       "species   sex                     \n",
       "Adelie    female   3.4   3.4   3.3\n",
       "          male     4.0   4.1   4.0\n",
       "Chinstrap female   3.6   3.5   3.5\n",
       "          male     3.8   4.1   3.9\n",
       "Gentoo    female   4.6   4.6   4.8\n",
       "          male     5.5   5.4   5.4"
      ]
     },
     "execution_count": 60,
     "metadata": {},
     "output_type": "execute_result"
    }
   ],
   "source": [
    "weight_year.unstack()"
   ]
  },
  {
   "cell_type": "markdown",
   "id": "dcf95ac1-0f53-4f29-97a8-4cf2c7c056ca",
   "metadata": {},
   "source": [
    "<h1>Insight #10</h1>\n",
    "<h3>2007 and 2009 has the highest recorded weight of male in Gentoo Species</h3>\n",
    "<h3>2009 has the highest recorded weight of female in Gentoo Species</h3>"
   ]
  },
  {
   "cell_type": "markdown",
   "id": "49508085-d207-463f-a6f6-7ab8d4480667",
   "metadata": {},
   "source": [
    "<h1>---Correlation v Causation</h1>\n",
    "<h2>STATISTICAL TREATMENT - Pearson R Correlation</h2>"
   ]
  },
  {
   "cell_type": "markdown",
   "id": "027d8d84-413c-414a-a7d4-1dbd4d110880",
   "metadata": {},
   "source": [
    "<h4>P VALUE in Statistics</h4>\n",
    "<p>A <b>p-value</b> is a statistical measurement used to validate a hypothesis against observe data. It measures the probability of obtaining the observed results, assuming that the null hypothesis is true. A lower p-value indicates greater statistical significance of the observed difference</p>"
   ]
  },
  {
   "cell_type": "markdown",
   "id": "d59c0c48-d751-401e-a339-a7d69b023072",
   "metadata": {},
   "source": [
    "<h4>Anything ABOVE .5 means the Two Values has a STRONG CORRELATION</h4>\n",
    "<h4>Anything BELOW .5 means the Two Values has a NO CORRELATION</h4>"
   ]
  },
  {
   "cell_type": "markdown",
   "id": "41de3f9b-75f5-4f16-89b2-ee1fa1e328ec",
   "metadata": {},
   "source": [
    "<h3>REQUIREMENTS FOR CORRELATION</h3>\n",
    "<ul>\n",
    "    <li>Naming the Variable</li>\n",
    "    <li>First Column to Test</li>\n",
    "    <li>.corr Function</li>\n",
    "    <li>Second Column to Test</li>\n",
    "</ul>"
   ]
  },
  {
   "cell_type": "markdown",
   "id": "4157efdf-5e43-45b2-aa37-c2dc62c726b9",
   "metadata": {},
   "source": [
    "<h1>#11 Correlation between bill_length_mm and bill_depth_mm</h1>"
   ]
  },
  {
   "cell_type": "code",
   "execution_count": 61,
   "id": "55890107-09bf-4aed-bfd4-43bb8e23d153",
   "metadata": {},
   "outputs": [
    {
     "data": {
      "text/plain": [
       "np.float64(-0.23505287035553282)"
      ]
     },
     "execution_count": 61,
     "metadata": {},
     "output_type": "execute_result"
    }
   ],
   "source": [
    "b_length_depth = penguins['bill_length_mm'].corr(penguins['bill_depth_mm'])\n",
    "b_length_depth"
   ]
  },
  {
   "cell_type": "markdown",
   "id": "2e56179d-6961-4ea7-81e2-0969d30dc319",
   "metadata": {},
   "source": [
    "<h1>Insight #11</h1>\n",
    "<h3>There is NO CORRELATION between bill length and bill depth</h3>"
   ]
  },
  {
   "cell_type": "markdown",
   "id": "dddfefe9-fb18-4478-b892-0bb8fea63944",
   "metadata": {},
   "source": [
    "<h1>#12 Correlation between flipper_length_mm and wkilo</h1>"
   ]
  },
  {
   "cell_type": "code",
   "execution_count": 62,
   "id": "0dc2d7da-e3c7-4d4b-967c-115ff54c370c",
   "metadata": {},
   "outputs": [
    {
     "data": {
      "text/plain": [
       "np.float64(0.8706550277578784)"
      ]
     },
     "execution_count": 62,
     "metadata": {},
     "output_type": "execute_result"
    }
   ],
   "source": [
    "b_flipper_wkilo = penguins['flipper_length_mm'].corr(penguins['wkilo'])\n",
    "b_flipper_wkilo"
   ]
  },
  {
   "cell_type": "markdown",
   "id": "18e9b27a-4f01-44de-8947-7bfea5cb6bab",
   "metadata": {},
   "source": [
    "<h1>Insight #12</h1>\n",
    "<h3>There is CORRELATION between flipper length and wkilo</h3>"
   ]
  },
  {
   "cell_type": "markdown",
   "id": "f61240de-6843-4b61-90b9-194e380ccc47",
   "metadata": {},
   "source": [
    "<h1>#13 Correlation between bill_length_mm and wkilo</h1>"
   ]
  },
  {
   "cell_type": "code",
   "execution_count": 63,
   "id": "6b6586f8-dc8e-4bc3-b730-8b1ab0dfb844",
   "metadata": {},
   "outputs": [
    {
     "data": {
      "text/plain": [
       "np.float64(0.5931909066868786)"
      ]
     },
     "execution_count": 63,
     "metadata": {},
     "output_type": "execute_result"
    }
   ],
   "source": [
    "b_depth_wkilo = penguins['bill_length_mm'].corr(penguins['wkilo'])\n",
    "b_depth_wkilo"
   ]
  },
  {
   "cell_type": "markdown",
   "id": "3a3c7be2-0575-43e4-b290-e757860f5e1d",
   "metadata": {},
   "source": [
    "<h1>Insight #13</h1>\n",
    "<h3>There is CORRELATION between bill length and wkilo</h3>"
   ]
  },
  {
   "cell_type": "markdown",
   "id": "a498eed4-4bed-43c6-895e-06bf05cb24cc",
   "metadata": {},
   "source": [
    "<h1>#14 Correlation between bill_length and flipper_length</h1>"
   ]
  },
  {
   "cell_type": "code",
   "execution_count": 64,
   "id": "48dcd4ca-7cf3-4284-bebf-e79e7d7cf052",
   "metadata": {},
   "outputs": [
    {
     "data": {
      "text/plain": [
       "np.float64(0.6561813407464278)"
      ]
     },
     "execution_count": 64,
     "metadata": {},
     "output_type": "execute_result"
    }
   ],
   "source": [
    "b_length_flipper = penguins['bill_length_mm'].corr(penguins['flipper_length_mm'])\n",
    "b_length_flipper"
   ]
  },
  {
   "cell_type": "markdown",
   "id": "f8483f74-5eb1-489c-88c9-ad10ab04b530",
   "metadata": {},
   "source": [
    "<h1>Insight #14</h1>\n",
    "<h3>There is CORRELATION between bill depth and flipper length</h3>"
   ]
  },
  {
   "cell_type": "markdown",
   "id": "1ca01957-f0c5-4fa5-8822-32c0f462f6d1",
   "metadata": {},
   "source": [
    "<h1>+Correlation between bill_depth and flipper_length</h1>\n",
    "<h3>+There is NO CORRELATION between bill depth and flipper length</h3>"
   ]
  },
  {
   "cell_type": "code",
   "execution_count": 65,
   "id": "da340cc8-761c-49b5-bafe-6eebf61ca2fb",
   "metadata": {},
   "outputs": [
    {
     "data": {
      "text/plain": [
       "np.float64(-0.5838512164654122)"
      ]
     },
     "execution_count": 65,
     "metadata": {},
     "output_type": "execute_result"
    }
   ],
   "source": [
    "b_depth_flipper = penguins['bill_depth_mm'].corr(penguins['flipper_length_mm'])\n",
    "b_depth_flipper"
   ]
  },
  {
   "cell_type": "markdown",
   "id": "e8a59dbe-547b-434b-b8b4-f3d80fbc2047",
   "metadata": {},
   "source": [
    "<h1>---Correlation Analysis Between Qualitative Data and Quantitative Data</h1>"
   ]
  },
  {
   "cell_type": "markdown",
   "id": "90aac4c0-d080-4fe5-a33a-6ac12b2e3c3a",
   "metadata": {},
   "source": [
    "<h2>Use of One Way Anova</h2>\n",
    "<h3>Science Python Library -- Known as Scipy</h3>"
   ]
  },
  {
   "cell_type": "code",
   "execution_count": 66,
   "id": "074d8626-ca7a-49a7-b60b-70ba1c985c88",
   "metadata": {},
   "outputs": [
    {
     "name": "stdout",
     "output_type": "stream",
     "text": [
      "Defaulting to user installation because normal site-packages is not writeable\n",
      "Requirement already satisfied: scipy in c:\\users\\lab4-studentpc32\\appdata\\local\\packages\\pythonsoftwarefoundation.python.3.13_qbz5n2kfra8p0\\localcache\\local-packages\\python313\\site-packages (1.15.2)\n",
      "Requirement already satisfied: numpy<2.5,>=1.23.5 in c:\\users\\lab4-studentpc32\\appdata\\local\\packages\\pythonsoftwarefoundation.python.3.13_qbz5n2kfra8p0\\localcache\\local-packages\\python313\\site-packages (from scipy) (2.2.2)\n",
      "Note: you may need to restart the kernel to use updated packages.\n"
     ]
    },
    {
     "name": "stderr",
     "output_type": "stream",
     "text": [
      "\n",
      "[notice] A new release of pip is available: 24.3.1 -> 25.0.1\n",
      "[notice] To update, run: C:\\Users\\LAB4-StudentPC32\\AppData\\Local\\Microsoft\\WindowsApps\\PythonSoftwareFoundation.Python.3.13_qbz5n2kfra8p0\\python.exe -m pip install --upgrade pip\n"
     ]
    }
   ],
   "source": [
    "pip install scipy"
   ]
  },
  {
   "cell_type": "code",
   "execution_count": 67,
   "id": "d30c5231-3a9d-4cdd-b4f8-f9544e242a30",
   "metadata": {},
   "outputs": [],
   "source": [
    "from scipy.stats import f_oneway"
   ]
  },
  {
   "cell_type": "markdown",
   "id": "90394a66-ac69-4298-8ace-b6fc74a6b334",
   "metadata": {},
   "source": [
    "<h3>---Testing Correlation between Body Mass and Sex</h3>"
   ]
  },
  {
   "cell_type": "code",
   "execution_count": 68,
   "id": "2b44e58a-fca4-476b-8a7c-7bf12b7dce1d",
   "metadata": {},
   "outputs": [
    {
     "data": {
      "text/plain": [
       "0      3750.000000\n",
       "3      4201.754386\n",
       "5      3650.000000\n",
       "7      4675.000000\n",
       "8      3475.000000\n",
       "          ...     \n",
       "334    3800.000000\n",
       "336    3950.000000\n",
       "339    4000.000000\n",
       "341    3775.000000\n",
       "342    4100.000000\n",
       "Name: body_mass_g, Length: 179, dtype: float64"
      ]
     },
     "execution_count": 68,
     "metadata": {},
     "output_type": "execute_result"
    }
   ],
   "source": [
    "penguins[penguins['sex'] == 'male']['body_mass_g']"
   ]
  },
  {
   "cell_type": "code",
   "execution_count": 69,
   "id": "112de3f2-d1bd-4c6e-a640-faa9a77fa43e",
   "metadata": {},
   "outputs": [
    {
     "data": {
      "text/plain": [
       "np.float64(3.0226600487050246e-15)"
      ]
     },
     "execution_count": 69,
     "metadata": {},
     "output_type": "execute_result"
    }
   ],
   "source": [
    "f_stats, p_value = f_oneway(penguins[penguins['sex'] == 'male']['body_mass_g'],\n",
    "                            penguins[penguins['sex'] == 'female']['body_mass_g'])\n",
    "\n",
    "p_value"
   ]
  },
  {
   "cell_type": "markdown",
   "id": "8fc45f4a-b1c9-4366-a5d7-f979c45307e6",
   "metadata": {},
   "source": [
    "<h1>Insight #15</h1>\n",
    "<h3>There is STRONG CORRELATION between Body Mass and Sex</h3>"
   ]
  },
  {
   "cell_type": "markdown",
   "id": "e20d377b-4d75-42f5-9fad-78d52a6b2efb",
   "metadata": {},
   "source": [
    "<h3>---Testing Correlation between Body Mass and Islands</h3>"
   ]
  },
  {
   "cell_type": "code",
   "execution_count": 70,
   "id": "2022f074-86af-4542-9803-3b3dfdcbd602",
   "metadata": {},
   "outputs": [
    {
     "data": {
      "text/plain": [
       "np.float64(1.750146154234633e-37)"
      ]
     },
     "execution_count": 70,
     "metadata": {},
     "output_type": "execute_result"
    }
   ],
   "source": [
    "f_stats, p_value = f_oneway(penguins[penguins['island'] == 'Biscoe']['body_mass_g'],\n",
    "                            penguins[penguins['island'] == 'Dream']['body_mass_g'],\n",
    "                            penguins[penguins['island'] == 'Torgersen']['body_mass_g'])\n",
    "\n",
    "p_value"
   ]
  },
  {
   "cell_type": "markdown",
   "id": "9d956d13-7563-4c0b-8ead-dd04538d872d",
   "metadata": {},
   "source": [
    "<h1>Insight #16</h1>\n",
    "<h3>There is STRONG CORRELATION between Islands and Body Mass</h3>"
   ]
  },
  {
   "cell_type": "code",
   "execution_count": 72,
   "id": "2f175fb8-1d5c-40da-bab5-c13654a8f994",
   "metadata": {},
   "outputs": [],
   "source": [
    "penguinsss = penguins[(penguins['island'] == 'Dream') & (penguins['wkilo'] > 3.9) & (penguins['wkilo'] < 4.2)]"
   ]
  },
  {
   "cell_type": "code",
   "execution_count": 73,
   "id": "9d085ddf-80ab-4ac8-8a5c-36a7c4c20c83",
   "metadata": {},
   "outputs": [
    {
     "data": {
      "text/html": [
       "<div>\n",
       "<style scoped>\n",
       "    .dataframe tbody tr th:only-of-type {\n",
       "        vertical-align: middle;\n",
       "    }\n",
       "\n",
       "    .dataframe tbody tr th {\n",
       "        vertical-align: top;\n",
       "    }\n",
       "\n",
       "    .dataframe thead th {\n",
       "        text-align: right;\n",
       "    }\n",
       "</style>\n",
       "<table border=\"1\" class=\"dataframe\">\n",
       "  <thead>\n",
       "    <tr style=\"text-align: right;\">\n",
       "      <th></th>\n",
       "      <th>rowid</th>\n",
       "      <th>species</th>\n",
       "      <th>island</th>\n",
       "      <th>bill_length_mm</th>\n",
       "      <th>bill_depth_mm</th>\n",
       "      <th>flipper_length_mm</th>\n",
       "      <th>body_mass_g</th>\n",
       "      <th>sex</th>\n",
       "      <th>year</th>\n",
       "      <th>wkilo</th>\n",
       "    </tr>\n",
       "  </thead>\n",
       "  <tbody>\n",
       "    <tr>\n",
       "      <th>36</th>\n",
       "      <td>37</td>\n",
       "      <td>Adelie</td>\n",
       "      <td>Dream</td>\n",
       "      <td>38.8</td>\n",
       "      <td>20.0</td>\n",
       "      <td>190.0</td>\n",
       "      <td>3950.0</td>\n",
       "      <td>male</td>\n",
       "      <td>2007</td>\n",
       "      <td>4.0</td>\n",
       "    </tr>\n",
       "    <tr>\n",
       "      <th>88</th>\n",
       "      <td>89</td>\n",
       "      <td>Adelie</td>\n",
       "      <td>Dream</td>\n",
       "      <td>38.3</td>\n",
       "      <td>19.2</td>\n",
       "      <td>189.0</td>\n",
       "      <td>3950.0</td>\n",
       "      <td>male</td>\n",
       "      <td>2008</td>\n",
       "      <td>4.0</td>\n",
       "    </tr>\n",
       "    <tr>\n",
       "      <th>99</th>\n",
       "      <td>100</td>\n",
       "      <td>Adelie</td>\n",
       "      <td>Dream</td>\n",
       "      <td>43.2</td>\n",
       "      <td>18.5</td>\n",
       "      <td>192.0</td>\n",
       "      <td>4100.0</td>\n",
       "      <td>male</td>\n",
       "      <td>2008</td>\n",
       "      <td>4.1</td>\n",
       "    </tr>\n",
       "    <tr>\n",
       "      <th>137</th>\n",
       "      <td>138</td>\n",
       "      <td>Adelie</td>\n",
       "      <td>Dream</td>\n",
       "      <td>40.2</td>\n",
       "      <td>20.1</td>\n",
       "      <td>200.0</td>\n",
       "      <td>3975.0</td>\n",
       "      <td>male</td>\n",
       "      <td>2009</td>\n",
       "      <td>4.0</td>\n",
       "    </tr>\n",
       "    <tr>\n",
       "      <th>151</th>\n",
       "      <td>152</td>\n",
       "      <td>Adelie</td>\n",
       "      <td>Dream</td>\n",
       "      <td>41.5</td>\n",
       "      <td>18.5</td>\n",
       "      <td>201.0</td>\n",
       "      <td>4000.0</td>\n",
       "      <td>male</td>\n",
       "      <td>2009</td>\n",
       "      <td>4.0</td>\n",
       "    </tr>\n",
       "    <tr>\n",
       "      <th>281</th>\n",
       "      <td>282</td>\n",
       "      <td>Chinstrap</td>\n",
       "      <td>Dream</td>\n",
       "      <td>45.2</td>\n",
       "      <td>17.8</td>\n",
       "      <td>198.0</td>\n",
       "      <td>3950.0</td>\n",
       "      <td>female</td>\n",
       "      <td>2007</td>\n",
       "      <td>4.0</td>\n",
       "    </tr>\n",
       "    <tr>\n",
       "      <th>289</th>\n",
       "      <td>290</td>\n",
       "      <td>Chinstrap</td>\n",
       "      <td>Dream</td>\n",
       "      <td>52.0</td>\n",
       "      <td>18.1</td>\n",
       "      <td>201.0</td>\n",
       "      <td>4050.0</td>\n",
       "      <td>male</td>\n",
       "      <td>2007</td>\n",
       "      <td>4.0</td>\n",
       "    </tr>\n",
       "    <tr>\n",
       "      <th>291</th>\n",
       "      <td>292</td>\n",
       "      <td>Chinstrap</td>\n",
       "      <td>Dream</td>\n",
       "      <td>50.5</td>\n",
       "      <td>19.6</td>\n",
       "      <td>201.0</td>\n",
       "      <td>4050.0</td>\n",
       "      <td>male</td>\n",
       "      <td>2007</td>\n",
       "      <td>4.0</td>\n",
       "    </tr>\n",
       "    <tr>\n",
       "      <th>309</th>\n",
       "      <td>310</td>\n",
       "      <td>Chinstrap</td>\n",
       "      <td>Dream</td>\n",
       "      <td>51.0</td>\n",
       "      <td>18.8</td>\n",
       "      <td>203.0</td>\n",
       "      <td>4100.0</td>\n",
       "      <td>male</td>\n",
       "      <td>2008</td>\n",
       "      <td>4.1</td>\n",
       "    </tr>\n",
       "    <tr>\n",
       "      <th>316</th>\n",
       "      <td>317</td>\n",
       "      <td>Chinstrap</td>\n",
       "      <td>Dream</td>\n",
       "      <td>49.0</td>\n",
       "      <td>19.5</td>\n",
       "      <td>210.0</td>\n",
       "      <td>3950.0</td>\n",
       "      <td>male</td>\n",
       "      <td>2008</td>\n",
       "      <td>4.0</td>\n",
       "    </tr>\n",
       "    <tr>\n",
       "      <th>327</th>\n",
       "      <td>328</td>\n",
       "      <td>Chinstrap</td>\n",
       "      <td>Dream</td>\n",
       "      <td>51.4</td>\n",
       "      <td>19.0</td>\n",
       "      <td>201.0</td>\n",
       "      <td>3950.0</td>\n",
       "      <td>male</td>\n",
       "      <td>2009</td>\n",
       "      <td>4.0</td>\n",
       "    </tr>\n",
       "    <tr>\n",
       "      <th>329</th>\n",
       "      <td>330</td>\n",
       "      <td>Chinstrap</td>\n",
       "      <td>Dream</td>\n",
       "      <td>50.7</td>\n",
       "      <td>19.7</td>\n",
       "      <td>203.0</td>\n",
       "      <td>4050.0</td>\n",
       "      <td>male</td>\n",
       "      <td>2009</td>\n",
       "      <td>4.0</td>\n",
       "    </tr>\n",
       "    <tr>\n",
       "      <th>333</th>\n",
       "      <td>334</td>\n",
       "      <td>Chinstrap</td>\n",
       "      <td>Dream</td>\n",
       "      <td>49.3</td>\n",
       "      <td>19.9</td>\n",
       "      <td>203.0</td>\n",
       "      <td>4050.0</td>\n",
       "      <td>male</td>\n",
       "      <td>2009</td>\n",
       "      <td>4.0</td>\n",
       "    </tr>\n",
       "    <tr>\n",
       "      <th>336</th>\n",
       "      <td>337</td>\n",
       "      <td>Chinstrap</td>\n",
       "      <td>Dream</td>\n",
       "      <td>51.9</td>\n",
       "      <td>19.5</td>\n",
       "      <td>206.0</td>\n",
       "      <td>3950.0</td>\n",
       "      <td>male</td>\n",
       "      <td>2009</td>\n",
       "      <td>4.0</td>\n",
       "    </tr>\n",
       "    <tr>\n",
       "      <th>339</th>\n",
       "      <td>340</td>\n",
       "      <td>Chinstrap</td>\n",
       "      <td>Dream</td>\n",
       "      <td>55.8</td>\n",
       "      <td>19.8</td>\n",
       "      <td>207.0</td>\n",
       "      <td>4000.0</td>\n",
       "      <td>male</td>\n",
       "      <td>2009</td>\n",
       "      <td>4.0</td>\n",
       "    </tr>\n",
       "    <tr>\n",
       "      <th>342</th>\n",
       "      <td>343</td>\n",
       "      <td>Chinstrap</td>\n",
       "      <td>Dream</td>\n",
       "      <td>50.8</td>\n",
       "      <td>19.0</td>\n",
       "      <td>210.0</td>\n",
       "      <td>4100.0</td>\n",
       "      <td>male</td>\n",
       "      <td>2009</td>\n",
       "      <td>4.1</td>\n",
       "    </tr>\n",
       "  </tbody>\n",
       "</table>\n",
       "</div>"
      ],
      "text/plain": [
       "    rowid    species island  bill_length_mm  bill_depth_mm  flipper_length_mm  \\\n",
       "36     37     Adelie  Dream            38.8           20.0              190.0   \n",
       "88     89     Adelie  Dream            38.3           19.2              189.0   \n",
       "99    100     Adelie  Dream            43.2           18.5              192.0   \n",
       "137   138     Adelie  Dream            40.2           20.1              200.0   \n",
       "151   152     Adelie  Dream            41.5           18.5              201.0   \n",
       "281   282  Chinstrap  Dream            45.2           17.8              198.0   \n",
       "289   290  Chinstrap  Dream            52.0           18.1              201.0   \n",
       "291   292  Chinstrap  Dream            50.5           19.6              201.0   \n",
       "309   310  Chinstrap  Dream            51.0           18.8              203.0   \n",
       "316   317  Chinstrap  Dream            49.0           19.5              210.0   \n",
       "327   328  Chinstrap  Dream            51.4           19.0              201.0   \n",
       "329   330  Chinstrap  Dream            50.7           19.7              203.0   \n",
       "333   334  Chinstrap  Dream            49.3           19.9              203.0   \n",
       "336   337  Chinstrap  Dream            51.9           19.5              206.0   \n",
       "339   340  Chinstrap  Dream            55.8           19.8              207.0   \n",
       "342   343  Chinstrap  Dream            50.8           19.0              210.0   \n",
       "\n",
       "     body_mass_g     sex  year  wkilo  \n",
       "36        3950.0    male  2007    4.0  \n",
       "88        3950.0    male  2008    4.0  \n",
       "99        4100.0    male  2008    4.1  \n",
       "137       3975.0    male  2009    4.0  \n",
       "151       4000.0    male  2009    4.0  \n",
       "281       3950.0  female  2007    4.0  \n",
       "289       4050.0    male  2007    4.0  \n",
       "291       4050.0    male  2007    4.0  \n",
       "309       4100.0    male  2008    4.1  \n",
       "316       3950.0    male  2008    4.0  \n",
       "327       3950.0    male  2009    4.0  \n",
       "329       4050.0    male  2009    4.0  \n",
       "333       4050.0    male  2009    4.0  \n",
       "336       3950.0    male  2009    4.0  \n",
       "339       4000.0    male  2009    4.0  \n",
       "342       4100.0    male  2009    4.1  "
      ]
     },
     "execution_count": 73,
     "metadata": {},
     "output_type": "execute_result"
    }
   ],
   "source": [
    "penguinsss"
   ]
  },
  {
   "cell_type": "code",
   "execution_count": null,
   "id": "423ea91f-7a86-48ca-872a-a55b4c9ee6be",
   "metadata": {},
   "outputs": [],
   "source": []
  }
 ],
 "metadata": {
  "kernelspec": {
   "display_name": "Python 3 (ipykernel)",
   "language": "python",
   "name": "python3"
  },
  "language_info": {
   "codemirror_mode": {
    "name": "ipython",
    "version": 3
   },
   "file_extension": ".py",
   "mimetype": "text/x-python",
   "name": "python",
   "nbconvert_exporter": "python",
   "pygments_lexer": "ipython3",
   "version": "3.13.2"
  }
 },
 "nbformat": 4,
 "nbformat_minor": 5
}
